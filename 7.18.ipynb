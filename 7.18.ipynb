{
 "cells": [
  {
   "cell_type": "markdown",
   "metadata": {},
   "source": [
    "# 选择\n",
    "## 布尔类型、数值和表达式\n",
    "![](../Photo/33.png)\n",
    "- 注意：比较运算符的相等是两个等号，一个等到代表赋值\n",
    "- 在Python中可以用整型0来代表False，其他数字来代表True\n",
    "- 后面还会讲到 is 在判断语句中的用发  is同一对象"
   ]
  },
  {
   "cell_type": "code",
   "execution_count": 1,
   "metadata": {},
   "outputs": [
    {
     "data": {
      "text/plain": [
       "False"
      ]
     },
     "execution_count": 1,
     "metadata": {},
     "output_type": "execute_result"
    }
   ],
   "source": [
    "1 == '1'"
   ]
  },
  {
   "cell_type": "code",
   "execution_count": 2,
   "metadata": {},
   "outputs": [
    {
     "data": {
      "text/plain": [
       "True"
      ]
     },
     "execution_count": 2,
     "metadata": {},
     "output_type": "execute_result"
    }
   ],
   "source": [
    "1<=2<3"
   ]
  },
  {
   "cell_type": "code",
   "execution_count": 3,
   "metadata": {},
   "outputs": [
    {
     "data": {
      "text/plain": [
       "True"
      ]
     },
     "execution_count": 3,
     "metadata": {},
     "output_type": "execute_result"
    }
   ],
   "source": [
    "bool('ss44')"
   ]
  },
  {
   "cell_type": "code",
   "execution_count": 5,
   "metadata": {},
   "outputs": [
    {
     "name": "stdout",
     "output_type": "stream",
     "text": [
      "140709646668608 140709646668608\n"
     ]
    },
    {
     "data": {
      "text/plain": [
       "False"
      ]
     },
     "execution_count": 5,
     "metadata": {},
     "output_type": "execute_result"
    }
   ],
   "source": [
    "a = id(1)\n",
    "b = id(1)\n",
    "print(a,b)\n",
    "a is b"
   ]
  },
  {
   "cell_type": "code",
   "execution_count": 6,
   "metadata": {},
   "outputs": [
    {
     "data": {
      "text/plain": [
       "True"
      ]
     },
     "execution_count": 6,
     "metadata": {},
     "output_type": "execute_result"
    }
   ],
   "source": [
    "a = id(1)\n",
    "b = a\n",
    "a is b"
   ]
  },
  {
   "cell_type": "markdown",
   "metadata": {},
   "source": [
    "## 字符串的比较使用ASCII值"
   ]
  },
  {
   "cell_type": "code",
   "execution_count": 7,
   "metadata": {},
   "outputs": [
    {
     "data": {
      "text/plain": [
       "False"
      ]
     },
     "execution_count": 7,
     "metadata": {},
     "output_type": "execute_result"
    }
   ],
   "source": [
    "a = \"Joker\"\n",
    "b = \"joker\"\n",
    "a > b"
   ]
  },
  {
   "cell_type": "markdown",
   "metadata": {},
   "source": [
    "## Markdown \n",
    "- https://github.com/younghz/Markdown"
   ]
  },
  {
   "cell_type": "code",
   "execution_count": null,
   "metadata": {},
   "outputs": [],
   "source": [
    "$\\sum$x{i}"
   ]
  },
  {
   "cell_type": "markdown",
   "metadata": {},
   "source": [
    "## EP:\n",
    "- <img src=\"../Photo/34.png\"></img>\n",
    "- 输入一个数字，判断其实奇数还是偶数"
   ]
  },
  {
   "cell_type": "markdown",
   "metadata": {},
   "source": [
    "## 产生随机数字\n",
    "- 函数random.randint(a,b) 可以用来产生一个a和b之间且包括a和b的随机整数"
   ]
  },
  {
   "cell_type": "code",
   "execution_count": 1,
   "metadata": {},
   "outputs": [
    {
     "name": "stdout",
     "output_type": "stream",
     "text": [
      "2\n"
     ]
    }
   ],
   "source": [
    "import random\n",
    "num = random.randint(0,10)\n",
    "print(num)"
   ]
  },
  {
   "cell_type": "code",
   "execution_count": 3,
   "metadata": {},
   "outputs": [
    {
     "name": "stdout",
     "output_type": "stream",
     "text": [
      "6\n",
      "太大了\n"
     ]
    }
   ],
   "source": [
    "s = input()\n",
    "s = int(s)\n",
    "if s < num:\n",
    "    print('有点小')\n",
    "elif s == num:\n",
    "    print('完美')\n",
    "else:\n",
    "    print('太大了')"
   ]
  },
  {
   "cell_type": "markdown",
   "metadata": {},
   "source": [
    "产生一个随机数，你去输入，如果你输入的数大于随机数，那么就告诉你太大了，反之，太小了，\n",
    "然后你一直输入，知道它满意为止"
   ]
  },
  {
   "cell_type": "markdown",
   "metadata": {},
   "source": [
    "##  其他random方法\n",
    "- random.random 返回0.0到1.0之间前闭后开区间的随机浮点\n",
    "- random.randrange(a,b) 前闭后开"
   ]
  },
  {
   "cell_type": "markdown",
   "metadata": {},
   "source": [
    "## EP：\n",
    "- 产生两个随机整数number1和number2，然后显示给用户，使用户输入数字的和，并判定其是否正确\n",
    "- 进阶:写一个随机序号点名程序"
   ]
  },
  {
   "cell_type": "code",
   "execution_count": 6,
   "metadata": {},
   "outputs": [
    {
     "name": "stdout",
     "output_type": "stream",
     "text": [
      "9 3\n"
     ]
    }
   ],
   "source": [
    "import random\n",
    "num1 = random.randint(0,10)\n",
    "num2 = random.randint(0,5)\n",
    "print(num1,num2)"
   ]
  },
  {
   "cell_type": "code",
   "execution_count": 8,
   "metadata": {},
   "outputs": [
    {
     "name": "stdout",
     "output_type": "stream",
     "text": [
      "12\n",
      "正确\n"
     ]
    }
   ],
   "source": [
    "s = eval(input(''))\n",
    "if s == num1 + num2:\n",
    "    print(\"正确\")"
   ]
  },
  {
   "cell_type": "code",
   "execution_count": null,
   "metadata": {},
   "outputs": [],
   "source": [
    "number_1 = random.randrange(0,10)\n",
    "number_2 = random.randrange(0,10)\n",
    "sum_ = eval(input('>>'))\n",
    "while 1:\n",
    "    if sum_ == (number_1 + number_2):\n",
    "        print('good')\n",
    "    else:\n",
    "        print('sorry')"
   ]
  },
  {
   "cell_type": "markdown",
   "metadata": {},
   "source": [
    "## if语句\n",
    "- 如果条件正确就执行一个单向if语句，亦即当条件为真的时候才执行if内部的语句\n",
    "- Python有很多选择语句:\n",
    "> - 单向if \n",
    "  - 双向if-else\n",
    "  - 嵌套if\n",
    "  - 多向if-elif-else\n",
    "  \n",
    "- 注意：当语句含有子语句的时候，那么一定至少要有一个缩进，也就是说如果有儿子存在，那么一定要缩进\n",
    "- 切记不可tab键和space混用，单用tab 或者 space\n",
    "- 当你输出的结果是无论if是否为真时都需要显示时，语句应该与if对齐"
   ]
  },
  {
   "cell_type": "code",
   "execution_count": 11,
   "metadata": {},
   "outputs": [
    {
     "name": "stdout",
     "output_type": "stream",
     "text": [
      "年轻嘛[y/n]y\n",
      "帅否[y/n]y\n",
      "有没有老婆[y/n]n\n",
      "结婚\n"
     ]
    }
   ],
   "source": [
    "age = input('年轻嘛[y/n]')\n",
    "if age == 'y':\n",
    "    handsome = input('帅否[y/n]')\n",
    "    if handsome == 'y':\n",
    "        wife = input('有没有老婆[y/n]')\n",
    "        if wife == 'y':\n",
    "            print('回家的诱惑')\n",
    "        else:\n",
    "            print('结婚')\n",
    "    else:\n",
    "        print('考虑一下吧')\n",
    "else:\n",
    "    print('老，拜拜')"
   ]
  },
  {
   "cell_type": "markdown",
   "metadata": {},
   "source": [
    "## EP：\n",
    "- 用户输入一个数字，判断其实奇数还是偶数\n",
    "- 进阶：可以查看下4.5实例研究猜生日"
   ]
  },
  {
   "cell_type": "markdown",
   "metadata": {},
   "source": [
    "## 双向if-else 语句\n",
    "- 如果条件为真，那么走if内部语句，否则走else内部语句"
   ]
  },
  {
   "cell_type": "markdown",
   "metadata": {},
   "source": [
    "## EP：\n",
    "- 产生两个随机整数number1和number2，然后显示给用户，使用户输入数字，并判定其是否正确,如果正确打印“you‘re correct”，否则打印正确错误"
   ]
  },
  {
   "cell_type": "markdown",
   "metadata": {},
   "source": [
    "## 嵌套if 和多向if-elif-else\n",
    "![](../Photo/35.png)"
   ]
  },
  {
   "cell_type": "code",
   "execution_count": 13,
   "metadata": {},
   "outputs": [
    {
     "name": "stdout",
     "output_type": "stream",
     "text": [
      "出生年份1997\n",
      "牛\n"
     ]
    }
   ],
   "source": [
    "y = eval(input('出生年份'))\n",
    "if y % 12 == 0 :\n",
    "    res = \"猴\"\n",
    "elif y % 12 == 1 :\n",
    "    res = \"鸡\"\n",
    "elif y % 12 == 2 :\n",
    "    res = \"🐶\"\n",
    "elif y % 12 == 3 :\n",
    "    res = \"猪\"\n",
    "elif y % 12 == 4 :\n",
    "    res = \"鼠\"\n",
    "elif y % 12 == 5 :\n",
    "    res = \"牛\"\n",
    "elif y % 12 == 6 :\n",
    "    res = \"虎\"\n",
    "elif y % 12 == 7 :\n",
    "    res = \"兔\"\n",
    "elif y % 12 == 8 :\n",
    "    res = \"龙\"\n",
    "elif y % 12 == 9 :\n",
    "    res = \"🐍\"\n",
    "elif y % 12 == 10 :\n",
    "    res = \"🐎\"\n",
    "elif y % 12 == 11 :\n",
    "    res = \"🐏\"    \n",
    "print(res)  "
   ]
  },
  {
   "cell_type": "markdown",
   "metadata": {},
   "source": [
    "## EP：\n",
    "- 提示用户输入一个年份，然后显示表示这一年的动物\n",
    "![](../Photo/36.png)\n",
    "- 计算身体质量指数的程序\n",
    "- BMI = 以千克为单位的体重除以以米为单位的身高的平方\n",
    "![](../Photo/37.png)"
   ]
  },
  {
   "cell_type": "code",
   "execution_count": 3,
   "metadata": {},
   "outputs": [
    {
     "name": "stdout",
     "output_type": "stream",
     "text": [
      "体重：53\n",
      "身高：168\n",
      "超轻\n"
     ]
    }
   ],
   "source": [
    "ti = eval(input('体重：'))\n",
    "gao = eval(input('身高：'))\n",
    "bim = ti / gao ** 2\n",
    "if bim< 18.5:\n",
    "    print(\"超轻\")\n",
    "elif 18.5<=bim<25:\n",
    "    print(\"标准\")\n",
    "elif 25<=bim<30:\n",
    "    print(\"超重\")\n",
    "elif bim<=30:\n",
    "    print(\"疵肥\")"
   ]
  },
  {
   "cell_type": "markdown",
   "metadata": {},
   "source": [
    "## 逻辑运算符\n",
    "![](../Photo/38.png)"
   ]
  },
  {
   "cell_type": "markdown",
   "metadata": {},
   "source": [
    "![](../Photo/39.png)\n",
    "![](../Photo/40.png)"
   ]
  },
  {
   "cell_type": "markdown",
   "metadata": {},
   "source": [
    "## EP：\n",
    "- 判定闰年：一个年份如果能被4整除但不能被100整除，或者能被400整除，那么这个年份就是闰年\n",
    "- 提示用户输入一个年份，并返回是否是闰年\n",
    "- 提示用户输入一个数字，判断其是否为水仙花数"
   ]
  },
  {
   "cell_type": "code",
   "execution_count": 14,
   "metadata": {},
   "outputs": [
    {
     "name": "stdout",
     "output_type": "stream",
     "text": [
      "年份：2002\n",
      "不是\n"
     ]
    }
   ],
   "source": [
    "y = eval(input('年份：'))\n",
    "if (y % 4 == 0  and y % 100 != 0) or (y % 400 ==0) :\n",
    "    print('是')\n",
    "else:\n",
    "    print('不是')"
   ]
  },
  {
   "cell_type": "code",
   "execution_count": 12,
   "metadata": {},
   "outputs": [
    {
     "name": "stdout",
     "output_type": "stream",
     "text": [
      "请输入你要判断的正整数：555\n",
      "555 不是水仙花数\n"
     ]
    }
   ],
   "source": [
    "num=int(input(\"请输入你要判断的正整数：\"))\n",
    "n=num\n",
    "sum=0\n",
    "length=len(str(num))\n",
    "#str是将参数转换成字符串的形式\n",
    "#len是返回对象长度或者项目个数\n",
    "#例如len('hello')=5,len([1,2,3,4,5])=5\n",
    "while n!=0:\n",
    "    a=n%10\n",
    "    sum=sum+a**length\n",
    "    n=n//10#//取整除，返回商的整数部分\n",
    "if sum==num:\n",
    "    print(num,\"是水仙花数\")\n",
    "else:\n",
    "    print(num,\"不是水仙花数\")"
   ]
  },
  {
   "cell_type": "code",
   "execution_count": 15,
   "metadata": {},
   "outputs": [
    {
     "name": "stdout",
     "output_type": "stream",
     "text": [
      "请输入你要判断的正整数：555\n",
      "555 不是水仙花数\n"
     ]
    }
   ],
   "source": [
    "num=int(input(\"请输入你要判断的正整数：\"))\n",
    "bai = num //100\n",
    "shi = num //10 % 10\n",
    "ge = num % 10\n",
    "if bai**3 + shi**3 + ge**3 ==num:\n",
    "    print(num,\"是水仙花数\")\n",
    "else:\n",
    "    print(num,\"不是水仙花数\")"
   ]
  },
  {
   "cell_type": "markdown",
   "metadata": {},
   "source": [
    "## 实例研究：彩票\n",
    "![](../Photo/41.png)"
   ]
  },
  {
   "cell_type": "code",
   "execution_count": 16,
   "metadata": {},
   "outputs": [],
   "source": [
    "import random"
   ]
  },
  {
   "cell_type": "code",
   "execution_count": 26,
   "metadata": {},
   "outputs": [
    {
     "name": "stdout",
     "output_type": "stream",
     "text": [
      "95\n",
      ">>66\n",
      "谢谢惠顾\n"
     ]
    }
   ],
   "source": [
    "num = random.randint(10,99)\n",
    "print(num)\n",
    "N = input('>>')\n",
    "num_shi = num // 10\n",
    "num_ge = num % 10\n",
    "\n",
    "if N[0] == '0':\n",
    "    N_shi = 0\n",
    "else:\n",
    "    N_shi = int(N) // 10\n",
    "    N_ge = int(N) % 10\n",
    "if num == int(N):\n",
    "    print('10000')\n",
    "elif num_shi + num_ge == N_ge + N_shi:\n",
    "    print('3000')\n",
    "elif (num_ge == N_ge or num_shi == N_shi) or (num_ge == N_shi or num_shi == N_ge):\n",
    "    print('1000')\n",
    "else:\n",
    "    print(\"谢谢惠顾\")"
   ]
  },
  {
   "cell_type": "code",
   "execution_count": 33,
   "metadata": {},
   "outputs": [
    {
     "name": "stdout",
     "output_type": "stream",
     "text": [
      ">>658\n"
     ]
    },
    {
     "data": {
      "text/plain": [
       "'6'"
      ]
     },
     "execution_count": 33,
     "metadata": {},
     "output_type": "execute_result"
    }
   ],
   "source": [
    "N = input('>>')\n",
    "N[0]"
   ]
  },
  {
   "cell_type": "code",
   "execution_count": 35,
   "metadata": {},
   "outputs": [
    {
     "data": {
      "text/plain": [
       "'1'"
      ]
     },
     "execution_count": 35,
     "metadata": {},
     "output_type": "execute_result"
    }
   ],
   "source": [
    "a = '1258'\n",
    "a[0]"
   ]
  },
  {
   "cell_type": "markdown",
   "metadata": {},
   "source": [
    "# Homework\n",
    "- 1\n",
    "![](../Photo/42.png)"
   ]
  },
  {
   "cell_type": "code",
   "execution_count": 2,
   "metadata": {},
   "outputs": [
    {
     "name": "stdout",
     "output_type": "stream",
     "text": [
      "a,b,c:1,3,1\n",
      "有俩个根 -0.3819660112501051 -2.618033988749895\n"
     ]
    }
   ],
   "source": [
    "a,b,c= eval(input('a,b,c:'))\n",
    "d = b * b - (4 * a * c)\n",
    "if (b * b) - (4 * a * c) > 0:\n",
    "    e1= (-b + d **0.5) / 2 * a\n",
    "    e2= (-b - d **0.5) / 2 * a\n",
    "    print('有俩个根',e1,e2)\n",
    "elif (b * b) - (4 * a * c) == 0:\n",
    "    e3= (-b + d **0.5) / 2 * a\n",
    "    print('有一个根',e3)\n",
    "else:\n",
    "    print('没有根')"
   ]
  },
  {
   "cell_type": "markdown",
   "metadata": {},
   "source": [
    "- 2\n",
    "![](../Photo/43.png)"
   ]
  },
  {
   "cell_type": "code",
   "execution_count": 2,
   "metadata": {},
   "outputs": [
    {
     "name": "stdout",
     "output_type": "stream",
     "text": [
      "43\n",
      "8\n",
      "大了，小点儿\n",
      "7\n",
      "不错，对了\n"
     ]
    }
   ],
   "source": [
    "import random\n",
    "number=random.randint(1,100)\n",
    "print(number)\n",
    "s = number % 10 + number // 10\n",
    "for i in range(5):\n",
    "    input_=eval(input(''))\n",
    "    if input_>s:\n",
    "        print('大了，小点儿')\n",
    "    if input_<s:\n",
    "        print('小了，大点儿')\n",
    "    if input_==s:\n",
    "        print('不错，对了')\n",
    "        break   "
   ]
  },
  {
   "cell_type": "markdown",
   "metadata": {},
   "source": [
    "- 3\n",
    "![](../Photo/44.png)"
   ]
  },
  {
   "cell_type": "code",
   "execution_count": 5,
   "metadata": {},
   "outputs": [
    {
     "name": "stdout",
     "output_type": "stream",
     "text": [
      "请输入第一个数5\n",
      "今天是星期五，明天是星期六\n"
     ]
    }
   ],
   "source": [
    "x = int(input(\"请输入第一个数\"))\n",
    "if x == 0: \n",
    "    print(\"今天是星期日，明天是星期一\")\n",
    "elif x == 1: \n",
    "            print(\"今天是星期一，明天是星期二\")\n",
    "elif x == 2:\n",
    "            print(\"今天是星期二，明天是星期三\")\n",
    "elif x == 3:\n",
    "            print(\"今天是星期三，明天是星期四\")\n",
    "elif x == 4:\n",
    "            print(\"今天是星期四，明天是星期五\")\n",
    "elif x == 5:\n",
    "            print(\"今天是星期五，明天是星期六\")\n",
    "elif x == 6:\n",
    "            print(\"今天是星期六，明天是星期日\")"
   ]
  },
  {
   "cell_type": "markdown",
   "metadata": {},
   "source": [
    "- 4\n",
    "![](../Photo/45.png)"
   ]
  },
  {
   "cell_type": "code",
   "execution_count": 3,
   "metadata": {},
   "outputs": [
    {
     "name": "stdout",
     "output_type": "stream",
     "text": [
      "请输入第一个数5\n",
      "请输入第二个数9\n",
      "请输入第三个数7\n",
      "5 7 9\n"
     ]
    }
   ],
   "source": [
    "x = int(input(\"请输入第一个数\"))\n",
    "y = int(input(\"请输入第二个数\"))\n",
    "z = int(input(\"请输入第三个数\"))\n",
    "if x>y:\n",
    "    x,y = y,x\n",
    "if x>z:\n",
    "    x,z = z,x\n",
    "if y>z:\n",
    "    y,z = z,y\n",
    "print(x,y,z)"
   ]
  },
  {
   "cell_type": "markdown",
   "metadata": {},
   "source": [
    "- 5\n",
    "![](../Photo/46.png)"
   ]
  },
  {
   "cell_type": "code",
   "execution_count": 23,
   "metadata": {},
   "outputs": [
    {
     "name": "stdout",
     "output_type": "stream",
     "text": [
      "a,b:50,24.59\n",
      "c,d:25,11.9\n",
      "第二个好\n"
     ]
    }
   ],
   "source": [
    "a,b = eval(input(\"a,b:\"))\n",
    "c,d = eval(input(\"c,d:\"))\n",
    "if (b / a) < (c / d):\n",
    "    print(\"第二个好\")\n",
    "elif (b / a) == (c / d):\n",
    "    print(\"一样个好\")\n",
    "elif (b / a) > (c / d): \n",
    "    print(\"第一个好\")"
   ]
  },
  {
   "cell_type": "markdown",
   "metadata": {},
   "source": [
    "- 6\n",
    "![](../Photo/47.png)"
   ]
  },
  {
   "cell_type": "code",
   "execution_count": 11,
   "metadata": {},
   "outputs": [
    {
     "name": "stdout",
     "output_type": "stream",
     "text": [
      "年份：2000\n",
      "月份：2\n",
      "29天\n"
     ]
    }
   ],
   "source": [
    "y = eval(input('年份：'))\n",
    "num = eval(input('月份：'))\n",
    "if (y % 4 == 0  and y % 100 != 0) or (y % 400 ==0) :\n",
    "    if (num == 2):\n",
    "        print(\"29天\")\n",
    "    if (num == 1 or num == 3 or num == 5 or num == 7 or num == 8 or num == 10 or num == 12):\n",
    "        print(\"31天\")\n",
    "    if (num == 4 or num == 6 or num == 9 or num == 11):\n",
    "        print(\"30天\")\n",
    "else:\n",
    "    if (num == 2):\n",
    "        print(\"28天\")\n",
    "    if (num == 1 or num == 3 or num == 5 or num == 7 or num == 8 or num == 10 or num == 12):\n",
    "        print(\"31天\")\n",
    "    if (num == 4 or num == 6 or num == 9 or num == 11):\n",
    "        print(\"30天\")        "
   ]
  },
  {
   "cell_type": "markdown",
   "metadata": {},
   "source": [
    "- 7\n",
    "![](../Photo/48.png)"
   ]
  },
  {
   "cell_type": "code",
   "execution_count": 19,
   "metadata": {},
   "outputs": [
    {
     "name": "stdout",
     "output_type": "stream",
     "text": [
      "1\n",
      "0\n",
      "错了\n"
     ]
    }
   ],
   "source": [
    "import random\n",
    "number=random.randint(0,1)\n",
    "print(number)\n",
    "for i in range(1):\n",
    "    input_=eval(input(''))\n",
    "    if input_ == number:\n",
    "        print('恭喜你猜对了')\n",
    "    if input_ != number:\n",
    "        print('错了')\n",
    "        break "
   ]
  },
  {
   "cell_type": "markdown",
   "metadata": {},
   "source": [
    "- 8\n",
    "![](../Photo/49.png)"
   ]
  },
  {
   "cell_type": "code",
   "execution_count": 20,
   "metadata": {},
   "outputs": [
    {
     "name": "stdout",
     "output_type": "stream",
     "text": [
      "1\n",
      "请输入2\n",
      "恭喜你赢了\n"
     ]
    }
   ],
   "source": [
    "import random\n",
    "num=random.randint(0,2)\n",
    "print(number)\n",
    "s = eval(input('请输入'))\n",
    "if (s == 0 and num == 0) or (s == 1 and num == 1) or (s == 2 and num == 2):\n",
    "    print('再来一次')\n",
    "elif (s == 0 and num == 1) or (s == 1 and num == 2) or (s == 2 and num == 0):\n",
    "    print('你输了')  \n",
    "else:\n",
    "    print('恭喜你赢了')"
   ]
  },
  {
   "cell_type": "markdown",
   "metadata": {},
   "source": [
    "- 9\n",
    "![](../Photo/50.png)"
   ]
  },
  {
   "cell_type": "code",
   "execution_count": 15,
   "metadata": {},
   "outputs": [
    {
     "name": "stdout",
     "output_type": "stream",
     "text": [
      "请输入年份2013\n",
      "请输入月份1\n",
      "请输入这是这个月的第几天27\n",
      "6.449999999999989\n",
      "今天是星期五\n"
     ]
    }
   ],
   "source": [
    "import math\n",
    "y = int(input(\"请输入年份\"))\n",
    "m = int(input(\"请输入月份\"))\n",
    "q = int(input(\"请输入这是这个月的第几天\"))\n",
    "a = q + ((26 * (m + 1)) / 10 )\n",
    "j = y // 100\n",
    "k = y % 100\n",
    "b = k + (k / 4) +(j / 4) + 5 * j\n",
    "h = (a+b)%7\n",
    "print(h)\n",
    "x = math.floor(h)\n",
    "if x == 0: \n",
    "    print(\"今天是星期六\")\n",
    "elif x == 2: \n",
    "            print(\"今天是星期一\")\n",
    "elif x == 3:\n",
    "            print(\"今天是星期二\")\n",
    "elif x == 4:\n",
    "            print(\"今天是星期三\")\n",
    "elif x == 5:\n",
    "            print(\"今天是星期四\")\n",
    "elif x == 6:\n",
    "            print(\"今天是星期五\")\n",
    "elif x == 1:\n",
    "            print(\"今天是星期日\")"
   ]
  },
  {
   "cell_type": "markdown",
   "metadata": {},
   "source": [
    "- 10\n",
    "![](../Photo/51.png)"
   ]
  },
  {
   "cell_type": "markdown",
   "metadata": {},
   "source": [
    "- 11\n",
    "![](../Photo/52.png)"
   ]
  },
  {
   "cell_type": "code",
   "execution_count": 36,
   "metadata": {},
   "outputs": [
    {
     "name": "stdout",
     "output_type": "stream",
     "text": [
      "请输入一个数121\n",
      "是回文数\n"
     ]
    }
   ],
   "source": [
    "y = input(\"请输入一个数\")\n",
    "b = y[::-1]\n",
    "if y == b:\n",
    "    print(\"是回文数\")\n",
    "else:\n",
    "    print(\"不是\")"
   ]
  },
  {
   "cell_type": "markdown",
   "metadata": {},
   "source": [
    "- 12\n",
    "![](../Photo/53.png)"
   ]
  },
  {
   "cell_type": "code",
   "execution_count": null,
   "metadata": {},
   "outputs": [],
   "source": [
    "a,b,c=eval(input('请输入三角形三条边的长度，用空格隔开：'))\n",
    "if a>0 and b>0 and c>0 and a+b>c and a+c>b and b+c>a:\n",
    "    d = a + b + c\n",
    "    print(d)\n",
    "else:\n",
    "    print(\"三角形不成立，请重新输入\")"
   ]
  }
 ],
 "metadata": {
  "kernelspec": {
   "display_name": "Python 3",
   "language": "python",
   "name": "python3"
  },
  "language_info": {
   "codemirror_mode": {
    "name": "ipython",
    "version": 3
   },
   "file_extension": ".py",
   "mimetype": "text/x-python",
   "name": "python",
   "nbconvert_exporter": "python",
   "pygments_lexer": "ipython3",
   "version": "3.7.3"
  }
 },
 "nbformat": 4,
 "nbformat_minor": 2
}
