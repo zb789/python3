{
 "cells": [
  {
   "cell_type": "markdown",
   "metadata": {},
   "source": [
    "# 函数\n",
    "\n",
    "- 函数可以用来定义可重复代码，组织和简化\n",
    "- 一般来说一个函数在实际开发中为一个小功能\n",
    "- 一个类为一个大功能\n",
    "- 同样函数的长度不要超过一屏\n",
    "- python中的所有函数实际上都是有返回值（return，none）\n",
    "如果你没有设置return，那么python将不显示none\n",
    "如果设置return，返回return的值。"
   ]
  },
  {
   "cell_type": "code",
   "execution_count": 5,
   "metadata": {},
   "outputs": [],
   "source": [
    "def JJ():\n",
    "    print('hello')\n",
    "    return 100"
   ]
  },
  {
   "cell_type": "code",
   "execution_count": 6,
   "metadata": {},
   "outputs": [
    {
     "name": "stdout",
     "output_type": "stream",
     "text": [
      "hello\n"
     ]
    },
    {
     "data": {
      "text/plain": [
       "100"
      ]
     },
     "execution_count": 6,
     "metadata": {},
     "output_type": "execute_result"
    }
   ],
   "source": [
    "JJ()#调用表示（）"
   ]
  },
  {
   "cell_type": "code",
   "execution_count": 7,
   "metadata": {},
   "outputs": [],
   "source": [
    "def JJ2():\n",
    "    print('hello')"
   ]
  },
  {
   "cell_type": "code",
   "execution_count": 9,
   "metadata": {},
   "outputs": [
    {
     "name": "stdout",
     "output_type": "stream",
     "text": [
      "hello\n",
      "None\n"
     ]
    }
   ],
   "source": [
    "b = JJ2()\n",
    "print(b)"
   ]
  },
  {
   "cell_type": "markdown",
   "metadata": {},
   "source": [
    "## 定义一个函数\n",
    "\n",
    "def function_name(list of parameters):\n",
    "    \n",
    "    do something\n",
    "![](../Photo/69.png)\n",
    "- 以前使用的random 或者range 或者print.. 其实都是函数或者类"
   ]
  },
  {
   "cell_type": "code",
   "execution_count": 13,
   "metadata": {},
   "outputs": [],
   "source": [
    "def max_(num1,num2):\n",
    "     if num1 > num2:\n",
    "        return num1\n",
    "     else:\n",
    "        return num2"
   ]
  },
  {
   "cell_type": "code",
   "execution_count": 14,
   "metadata": {},
   "outputs": [
    {
     "data": {
      "text/plain": [
       "4"
      ]
     },
     "execution_count": 14,
     "metadata": {},
     "output_type": "execute_result"
    }
   ],
   "source": [
    "max_(2,4)"
   ]
  },
  {
   "cell_type": "code",
   "execution_count": 15,
   "metadata": {},
   "outputs": [
    {
     "data": {
      "text/plain": [
       "5"
      ]
     },
     "execution_count": 15,
     "metadata": {},
     "output_type": "execute_result"
    }
   ],
   "source": [
    "max(1,2,5)"
   ]
  },
  {
   "cell_type": "code",
   "execution_count": 19,
   "metadata": {},
   "outputs": [],
   "source": [
    "def max1_(num1,num2,num3):\n",
    "    if num1 > num2 and num2>num3:\n",
    "        return num1\n",
    "    elif num2> num1 and num2 >num3:\n",
    "        return num2\n",
    "    elif num3>num1 and num3>num2:\n",
    "        print(num3)"
   ]
  },
  {
   "cell_type": "code",
   "execution_count": 20,
   "metadata": {},
   "outputs": [
    {
     "name": "stdout",
     "output_type": "stream",
     "text": [
      "5\n"
     ]
    }
   ],
   "source": [
    "max1_(1,2,5)"
   ]
  },
  {
   "cell_type": "code",
   "execution_count": 17,
   "metadata": {},
   "outputs": [],
   "source": [
    "def Good(name):\n",
    "    print('%s is good boy'%name)"
   ]
  },
  {
   "cell_type": "code",
   "execution_count": 18,
   "metadata": {},
   "outputs": [
    {
     "name": "stdout",
     "output_type": "stream",
     "text": [
      "zb is good boy\n"
     ]
    }
   ],
   "source": [
    "Good('zb')"
   ]
  },
  {
   "cell_type": "code",
   "execution_count": 23,
   "metadata": {},
   "outputs": [],
   "source": [
    "def good(name1,name2='wm'):\n",
    "    print('%s is a good man !'%name1)"
   ]
  },
  {
   "cell_type": "code",
   "execution_count": 24,
   "metadata": {},
   "outputs": [
    {
     "name": "stdout",
     "output_type": "stream",
     "text": [
      " is a good man !\n"
     ]
    }
   ],
   "source": [
    "good('')"
   ]
  },
  {
   "cell_type": "code",
   "execution_count": 25,
   "metadata": {},
   "outputs": [
    {
     "name": "stdout",
     "output_type": "stream",
     "text": [
      "qq is a good man !\n"
     ]
    }
   ],
   "source": [
    "good('qq')"
   ]
  },
  {
   "cell_type": "code",
   "execution_count": null,
   "metadata": {},
   "outputs": [],
   "source": [
    "函数的参数如果有默认值的情况，当你调用函数的时候\n",
    "可以不给予参数值，那么就会为默认值\n",
    "反之，就是你给予的参数值；\n",
    "含有参数值的放在最后面"
   ]
  },
  {
   "cell_type": "markdown",
   "metadata": {},
   "source": [
    "## 调用一个函数\n",
    "- functionName()\n",
    "- \"()\" 就代表调用"
   ]
  },
  {
   "cell_type": "markdown",
   "metadata": {},
   "source": [
    "![](../Photo/70.png)"
   ]
  },
  {
   "cell_type": "markdown",
   "metadata": {},
   "source": [
    "## 带返回值和不带返回值的函数\n",
    "- return 返回的内容\n",
    "- return 返回多个值\n",
    "- 一般情况下，在多个函数协同完成一个功能的时候，那么将会有返回值"
   ]
  },
  {
   "cell_type": "markdown",
   "metadata": {},
   "source": [
    "![](../Photo/71.png)\n",
    "\n",
    "- 当然也可以自定义返回None"
   ]
  },
  {
   "cell_type": "markdown",
   "metadata": {},
   "source": [
    "## EP：\n",
    "![](../Photo/72.png)"
   ]
  },
  {
   "cell_type": "code",
   "execution_count": 21,
   "metadata": {},
   "outputs": [],
   "source": [
    "def fun1():\n",
    "    print('hahah')\n",
    "def fun2():\n",
    "    fun1()"
   ]
  },
  {
   "cell_type": "code",
   "execution_count": 22,
   "metadata": {},
   "outputs": [
    {
     "name": "stdout",
     "output_type": "stream",
     "text": [
      "hahah\n"
     ]
    }
   ],
   "source": [
    "fun2()"
   ]
  },
  {
   "cell_type": "code",
   "execution_count": 31,
   "metadata": {},
   "outputs": [
    {
     "name": "stdout",
     "output_type": "stream",
     "text": [
      "None (3, 6)\n"
     ]
    }
   ],
   "source": [
    "def main():\n",
    "    print(min(5,6),(3,6))\n",
    "def min(n1,n2)  :\n",
    "    smallest = n1\n",
    "    if n2 < smallest:\n",
    "        smallest = n2\n",
    "main()"
   ]
  },
  {
   "cell_type": "code",
   "execution_count": 88,
   "metadata": {},
   "outputs": [],
   "source": [
    "def shu(n):\n",
    "    if n % 2 == 0:\n",
    "        print('偶数')\n",
    "    else:\n",
    "        print('奇数')"
   ]
  },
  {
   "cell_type": "code",
   "execution_count": 37,
   "metadata": {},
   "outputs": [
    {
     "name": "stdout",
     "output_type": "stream",
     "text": [
      "奇数\n"
     ]
    }
   ],
   "source": [
    "shu(5)"
   ]
  },
  {
   "cell_type": "markdown",
   "metadata": {},
   "source": [
    "# KNN算法\n",
    "# 读取图片，进行对比分析\n",
    "import matplotlib.pyplot as plt \n",
    "\n",
    "res = plt.imread('D:/rabbit.jpg')\n",
    "print(res)"
   ]
  },
  {
   "cell_type": "markdown",
   "metadata": {},
   "source": [
    "## 类型和关键字参数\n",
    "- 普通参数\n",
    "- 多个参数\n",
    "- 默认值参数\n",
    "- 不定长参数"
   ]
  },
  {
   "cell_type": "markdown",
   "metadata": {},
   "source": [
    "## 普通参数"
   ]
  },
  {
   "cell_type": "markdown",
   "metadata": {},
   "source": [
    "## 多个参数"
   ]
  },
  {
   "cell_type": "markdown",
   "metadata": {},
   "source": [
    "## 默认值参数\n",
    "- 默认参数只能放在最后  *之后的必须强制命名传入参数,* 之后的变量必须带参数名"
   ]
  },
  {
   "cell_type": "code",
   "execution_count": 23,
   "metadata": {},
   "outputs": [],
   "source": [
    "def U(str_):\n",
    "    xiaoxie=0\n",
    "    daxie=0\n",
    "    shuzi=0\n",
    "    for i in str_:\n",
    "        ASCII=ord(i)\n",
    "        if 97<= ASCII<=122:\n",
    "            xiaoxie+=1\n",
    "        elif 65<= ASCII<=90:\n",
    "            daxie+=1\n",
    "        elif 48<= ASCII<=57:\n",
    "            shuzi+=1\n",
    "    return xiaoxie,daxie,shuzi"
   ]
  },
  {
   "cell_type": "code",
   "execution_count": 28,
   "metadata": {},
   "outputs": [
    {
     "data": {
      "text/plain": [
       "(8, 1, 5)"
      ]
     },
     "execution_count": 28,
     "metadata": {},
     "output_type": "execute_result"
    }
   ],
   "source": [
    "U('jorjdosp11111A')"
   ]
  },
  {
   "cell_type": "markdown",
   "metadata": {},
   "source": [
    "# 强制命名\n",
    "- *之后的必须强制命名传入参数,* 之后的变量必须带参数名"
   ]
  },
  {
   "cell_type": "code",
   "execution_count": 1,
   "metadata": {},
   "outputs": [
    {
     "name": "stdout",
     "output_type": "stream",
     "text": [
      "joker\n"
     ]
    }
   ],
   "source": [
    "def haha(*,name,name2,name4=\"k\"):\n",
    "    print(name)\n",
    "haha(name = \"joker\",name2 = \"haha\")"
   ]
  },
  {
   "cell_type": "markdown",
   "metadata": {},
   "source": [
    "## 不定长参数\n",
    "- \\*args, 不定长，输入多少参数都可以，不写入参数也可以\n",
    "> - 可以输入多个参数\n",
    "  - 返回输出结果的类型是元组类型，元组可以迭代，输入多少个参数都可以迭代来取出\n",
    "  - args 名字是可以修改的，只是通常约定为args\n",
    "- \\**kwargs, 不定长第二种\n",
    "> - 可以输入多个参数，但需要带参数名称\n",
    "  - 返回的数据类型是字典\n",
    "  - 输入的一定要是表达式(键值对)\n",
    "- 一般大的项目传入参数时，使用config文件一次写入所有的参数"
   ]
  },
  {
   "cell_type": "code",
   "execution_count": 2,
   "metadata": {},
   "outputs": [
    {
     "name": "stdout",
     "output_type": "stream",
     "text": [
      "(1, 2, 3)\n"
     ]
    }
   ],
   "source": [
    "def TT(*args):\n",
    "    print(args)\n",
    "TT(1,2,3)"
   ]
  },
  {
   "cell_type": "markdown",
   "metadata": {},
   "source": [
    "### \\**kwargs, 不定长第二种\n",
    "- 第二种不定长参数传入方法，使用字典数据传入\n",
    "- 写入参数时，必须先写\\*args, 再写\\**kwargs。 这是固定写法"
   ]
  },
  {
   "cell_type": "code",
   "execution_count": 3,
   "metadata": {},
   "outputs": [],
   "source": [
    "def max_(*sum):\n",
    "    a = 0\n",
    "    for i in sum:\n",
    "        if i>a:\n",
    "            a=i\n",
    "    return a"
   ]
  },
  {
   "cell_type": "code",
   "execution_count": 4,
   "metadata": {},
   "outputs": [
    {
     "data": {
      "text/plain": [
       "5"
      ]
     },
     "execution_count": 4,
     "metadata": {},
     "output_type": "execute_result"
    }
   ],
   "source": [
    "max_(1,5)"
   ]
  },
  {
   "cell_type": "markdown",
   "metadata": {},
   "source": [
    "## 变量的作用域\n",
    "- 局部变量 local\n",
    "- 全局变量 global\n",
    "- globals 函数返回一个全局变量的字典，包括所有导入的变量\n",
    "- locals() 函数会以字典类型返回当前位置的全部局部变量。"
   ]
  },
  {
   "cell_type": "code",
   "execution_count": 11,
   "metadata": {},
   "outputs": [
    {
     "name": "stdout",
     "output_type": "stream",
     "text": [
      "1100\n"
     ]
    }
   ],
   "source": [
    "a = 1000\n",
    "def Y():\n",
    "    global a\n",
    "    a += 100\n",
    "    print(a)\n",
    "Y()"
   ]
  },
  {
   "cell_type": "code",
   "execution_count": 22,
   "metadata": {},
   "outputs": [
    {
     "name": "stdout",
     "output_type": "stream",
     "text": [
      "1200\n"
     ]
    }
   ],
   "source": [
    "def YY(a1):\n",
    "    a1 += 100\n",
    "    print(a1)\n",
    "YY(a)"
   ]
  },
  {
   "cell_type": "code",
   "execution_count": 38,
   "metadata": {},
   "outputs": [],
   "source": [
    "def he(*sum):\n",
    "    a=1\n",
    "    for i in sum:\n",
    "        if i<a:\n",
    "            a=a\n",
    "        else:\n",
    "            a=a+i\n",
    "    return a      "
   ]
  },
  {
   "cell_type": "code",
   "execution_count": 39,
   "metadata": {},
   "outputs": [
    {
     "data": {
      "text/plain": [
       "1"
      ]
     },
     "execution_count": 39,
     "metadata": {},
     "output_type": "execute_result"
    }
   ],
   "source": [
    "he(0,0)"
   ]
  },
  {
   "cell_type": "markdown",
   "metadata": {},
   "source": [
    "## 注意：\n",
    "- global ：在进行赋值操作的时候需要声明\n",
    "- 官方解释：This is because when you make an assignment to a variable in a scope, that variable becomes local to that scope and shadows any similarly named variable in the outer scope.\n",
    "- ![](../Photo/73.png)"
   ]
  },
  {
   "cell_type": "code",
   "execution_count": 7,
   "metadata": {},
   "outputs": [],
   "source": [
    "def sum_(A='sum',*args):\n",
    "    res = 0\n",
    "    count = 0\n",
    "    for i in args:\n",
    "        res += i\n",
    "        count += 1\n",
    "    mean = res / count\n",
    "    return res,mean"
   ]
  },
  {
   "cell_type": "code",
   "execution_count": 8,
   "metadata": {},
   "outputs": [
    {
     "data": {
      "text/plain": [
       "(17, 5.666666666666667)"
      ]
     },
     "execution_count": 8,
     "metadata": {},
     "output_type": "execute_result"
    }
   ],
   "source": [
    "sum_(2,5,9,3)"
   ]
  },
  {
   "cell_type": "code",
   "execution_count": 9,
   "metadata": {},
   "outputs": [],
   "source": [
    "def sum_(*args,A='sum'):\n",
    "    res = 0\n",
    "    count = 0\n",
    "    for i in args:\n",
    "        res += i\n",
    "        count += 1\n",
    "    if A == 'sum':\n",
    "        return res\n",
    "    elif A == 'mean':\n",
    "        mean = res / count\n",
    "        return res,mean\n",
    "    else:\n",
    "        print(A,'还未开放')"
   ]
  },
  {
   "cell_type": "code",
   "execution_count": 10,
   "metadata": {},
   "outputs": [
    {
     "data": {
      "text/plain": [
       "(4, 1.0)"
      ]
     },
     "execution_count": 10,
     "metadata": {},
     "output_type": "execute_result"
    }
   ],
   "source": [
    "sum_(-1,0,1,4,A ='mean')"
   ]
  },
  {
   "cell_type": "markdown",
   "metadata": {},
   "source": [
    "## EP：\n",
    "- 定义一个邮箱加密函数，使得输入邮箱后进行ASCII码加密\n",
    "- 定义一个判断其是否为闰年的函数\n",
    "- 函数的嵌套：定义两个函数A，B，B函数接受A函数的数值并判定是否为奇数或者偶数"
   ]
  },
  {
   "cell_type": "markdown",
   "metadata": {},
   "source": [
    "# Homework\n",
    "- 1\n",
    "![](../Photo/74.png)"
   ]
  },
  {
   "cell_type": "code",
   "execution_count": 42,
   "metadata": {},
   "outputs": [
    {
     "name": "stdout",
     "output_type": "stream",
     "text": [
      "1 5 12 22 35 51 70 92 117 145 \n",
      "176 210 247 287 330 376 425 477 532 590 \n",
      "651 715 782 852 925 1001 1080 1162 1247 1335 \n",
      "1426 1520 1617 1717 1820 1926 2035 2147 2262 2380 \n",
      "2501 2625 2752 2882 3015 3151 3290 3432 3577 3725 \n",
      "3876 4030 4187 4347 4510 4676 4845 5017 5192 5370 \n",
      "5551 5735 5922 6112 6305 6501 6700 6902 7107 7315 \n",
      "7526 7740 7957 8177 8400 8626 8855 9087 9322 9560 \n",
      "9801 10045 10292 10542 10795 11051 11310 11572 11837 12105 \n",
      "12376 12650 12927 13207 13490 13776 14065 14357 14652 14950 \n"
     ]
    }
   ],
   "source": [
    "def wujiao():\n",
    "    a=0\n",
    "    for i in range (1,101):\n",
    "        num=int(i*(3*i-1)/2)\n",
    "        print(num,end=' ')\n",
    "        a+=1\n",
    "        if a%10==0:\n",
    "            print()\n",
    "wujiao()"
   ]
  },
  {
   "cell_type": "markdown",
   "metadata": {},
   "source": [
    "- 2 \n",
    "![](../Photo/75.png)"
   ]
  },
  {
   "cell_type": "code",
   "execution_count": 79,
   "metadata": {},
   "outputs": [
    {
     "name": "stdout",
     "output_type": "stream",
     "text": [
      "234\n",
      "9\n"
     ]
    }
   ],
   "source": [
    "s = input()\n",
    "s = int(s)\n",
    "if s < 1000:\n",
    "    a = (s % 10) + ((s // 10)//10) + ((s // 10) % 10)\n",
    "    print(a)"
   ]
  },
  {
   "cell_type": "code",
   "execution_count": 80,
   "metadata": {},
   "outputs": [
    {
     "data": {
      "text/plain": [
       "9"
      ]
     },
     "execution_count": 80,
     "metadata": {},
     "output_type": "execute_result"
    }
   ],
   "source": [
    "def sumdigits(n):\n",
    "    j=0\n",
    "    num=str(n)\n",
    "    for i in num:\n",
    "        b=int(i)\n",
    "        j+=b\n",
    "    return j\n",
    "sumdigits(234)"
   ]
  },
  {
   "cell_type": "markdown",
   "metadata": {},
   "source": [
    "- 3\n",
    "![](../Photo/76.png)"
   ]
  },
  {
   "cell_type": "code",
   "execution_count": 81,
   "metadata": {},
   "outputs": [
    {
     "name": "stdout",
     "output_type": "stream",
     "text": [
      "2.4 3 5\n",
      "12.4 15 31\n"
     ]
    }
   ],
   "source": [
    "def max1_(num1,num2,num3):\n",
    "    if num1>num2 and num2>num3:\n",
    "        print(num3,num2,num1)\n",
    "    elif num1>num3 and num3>num2:\n",
    "        print(num2,num3,num1)\n",
    "    elif num1<num2 and num2<num3:\n",
    "        print(num1,num2,num3)\n",
    "    elif num1<num3 and num3<num2:\n",
    "        print(num1,num3,num2)\n",
    "    elif num3<num1 and num1<num2:\n",
    "        print(num3,num1,num2)\n",
    "    else:\n",
    "        print(num2,num1,num3)\n",
    "max1_(3,2.4,5)\n",
    "max1_(31,12.4,15)"
   ]
  },
  {
   "cell_type": "markdown",
   "metadata": {},
   "source": [
    "# - 4\n",
    "![](../Photo/77.png)"
   ]
  },
  {
   "cell_type": "code",
   "execution_count": 129,
   "metadata": {},
   "outputs": [],
   "source": [
    "def bad(c):\n",
    "    a = 0\n",
    "    d = 0\n",
    "    while a < 3:\n",
    "        b = c * (10 ** a) +d\n",
    "        d = b\n",
    "        a +=1\n",
    "        print(b)"
   ]
  },
  {
   "cell_type": "code",
   "execution_count": 132,
   "metadata": {},
   "outputs": [
    {
     "name": "stdout",
     "output_type": "stream",
     "text": [
      "6\n",
      "66\n",
      "666\n"
     ]
    }
   ],
   "source": [
    "bad(6)"
   ]
  },
  {
   "cell_type": "markdown",
   "metadata": {},
   "source": [
    "- 5\n",
    "![](../Photo/78.png)"
   ]
  },
  {
   "cell_type": "code",
   "execution_count": 5,
   "metadata": {},
   "outputs": [
    {
     "name": "stdout",
     "output_type": "stream",
     "text": [
      "请输入一个字母：g\n",
      "请输入一个字母：k\n",
      "请输入一个整数：5\n",
      "g h i j k \n"
     ]
    }
   ],
   "source": [
    "def zifu(ch1,ch2,num):\n",
    "    num1=ord(ch1)\n",
    "    num2=ord(ch2)\n",
    "    num3=0\n",
    "    for i in range(num1,num2+1):\n",
    "        a=chr(i)\n",
    "        print(a,end=' ')\n",
    "        num3+=1\n",
    "        if num3%num==0:\n",
    "            print()\n",
    "ch1_=input('请输入一个字母：')\n",
    "ch2_=input('请输入一个字母：')\n",
    "num_=eval(input('请输入一个整数：'))\n",
    "zifu(ch1_,ch2_,num_)"
   ]
  },
  {
   "cell_type": "markdown",
   "metadata": {},
   "source": [
    "- 6\n",
    "![](../Photo/79.png)"
   ]
  },
  {
   "cell_type": "code",
   "execution_count": 4,
   "metadata": {},
   "outputs": [
    {
     "name": "stdout",
     "output_type": "stream",
     "text": [
      "2010年有365天\n",
      "2011年有365天\n",
      "2012年有366天\n",
      "2013年有365天\n",
      "2014年有365天\n",
      "2015年有365天\n",
      "2016年有366天\n",
      "2017年有365天\n",
      "2018年有365天\n",
      "2019年有365天\n",
      "2020年有366天\n"
     ]
    }
   ],
   "source": [
    "def tianshu(year):\n",
    "    if year%4==0 and year%100!=0 or year%400==0:\n",
    "        print('%d年有366天'%year)\n",
    "    else:\n",
    "        print('%d年有365天'%year)\n",
    "for i in range(2010,2021):\n",
    "    tianshu(i)"
   ]
  },
  {
   "cell_type": "markdown",
   "metadata": {},
   "source": [
    "- 7\n",
    "![](../Photo/80.png)"
   ]
  },
  {
   "cell_type": "code",
   "execution_count": 3,
   "metadata": {},
   "outputs": [
    {
     "name": "stdout",
     "output_type": "stream",
     "text": [
      "5,6,8,9\n"
     ]
    },
    {
     "data": {
      "text/plain": [
       "1.4142135623730951"
      ]
     },
     "execution_count": 3,
     "metadata": {},
     "output_type": "execute_result"
    }
   ],
   "source": [
    "def juli(x1,x2,y1,y2):\n",
    "    l=((x2-x1)**2+(y2-y1)**2)**(1/2)\n",
    "    return l\n",
    "x1,x2,y1,y2=eval(input())\n",
    "juli(x1,x2,y1,y2)"
   ]
  },
  {
   "cell_type": "markdown",
   "metadata": {},
   "source": [
    "- 8\n",
    "![](../Photo/81.png)"
   ]
  },
  {
   "cell_type": "code",
   "execution_count": 64,
   "metadata": {},
   "outputs": [],
   "source": [
    "def su():\n",
    "    for i in range(5,31):\n",
    "        if i == 2:\n",
    "            s = 2 ** i - 1\n",
    "            return s\n",
    "        elif i % 2 == 0 or i % 3 == 0:\n",
    "            pass\n",
    "        else:\n",
    "            b = 2 ** i - 1\n",
    "            return b"
   ]
  },
  {
   "cell_type": "code",
   "execution_count": 65,
   "metadata": {},
   "outputs": [
    {
     "data": {
      "text/plain": [
       "31"
      ]
     },
     "execution_count": 65,
     "metadata": {},
     "output_type": "execute_result"
    }
   ],
   "source": [
    "su()"
   ]
  },
  {
   "cell_type": "markdown",
   "metadata": {},
   "source": [
    "- 9\n",
    "![](../Photo/82.png)\n",
    "![](../Photo/83.png)"
   ]
  },
  {
   "cell_type": "code",
   "execution_count": 1,
   "metadata": {},
   "outputs": [
    {
     "data": {
      "text/plain": [
       "'2019 20:06:41'"
      ]
     },
     "execution_count": 1,
     "metadata": {},
     "output_type": "execute_result"
    }
   ],
   "source": [
    "import datetime\n",
    "\n",
    "now = datetime.datetime.now()\n",
    "\n",
    "now.strftime('%Y %H:%M:%S') "
   ]
  },
  {
   "cell_type": "markdown",
   "metadata": {},
   "source": [
    "- 10\n",
    "![](../Photo/84.png)"
   ]
  },
  {
   "cell_type": "markdown",
   "metadata": {},
   "source": [
    "- 11 \n",
    "### 去网上寻找如何用Python代码发送邮件 \n",
    "    - time.sleep(3)  3秒发送一次\n",
    "    - 一旦错误后，重新换一个邮箱"
   ]
  },
  {
   "cell_type": "code",
   "execution_count": null,
   "metadata": {},
   "outputs": [],
   "source": [
    "import smtplib\n",
    "s = smtplib.SMTP(\"localhost\")\n",
    "tolist = [\"xxx@qq.com\", \"xxx@163.com\"]\n",
    "msg = '''\\\n",
    "From: Me@my.org\n",
    "Subject: test\n",
    "This is a test '''\n",
    "s.sendmail(\"me@my.org\", tolist, msg)\n",
    "{}"
   ]
  }
 ],
 "metadata": {
  "kernelspec": {
   "display_name": "Python 3",
   "language": "python",
   "name": "python3"
  },
  "language_info": {
   "codemirror_mode": {
    "name": "ipython",
    "version": 3
   },
   "file_extension": ".py",
   "mimetype": "text/x-python",
   "name": "python",
   "nbconvert_exporter": "python",
   "pygments_lexer": "ipython3",
   "version": "3.7.3"
  }
 },
 "nbformat": 4,
 "nbformat_minor": 2
}
