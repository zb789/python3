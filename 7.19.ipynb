{
 "cells": [
  {
   "cell_type": "markdown",
   "metadata": {},
   "source": [
    "# 循环\n",
    "- 循环是一种控制语句块重复执行的结构\n",
    "- while  适用于广度遍历\n",
    "- for    开发中经常使用"
   ]
  },
  {
   "cell_type": "markdown",
   "metadata": {},
   "source": [
    "## while 循环\n",
    "- 当一个条件保持真的时候while循环重复执行语句\n",
    "- while 循环一定要有结束条件，否则很容易进入死循环\n",
    "- while 循环的语法是：\n",
    "\n",
    "    while loop-contunuation-conndition:\n",
    "\n",
    "        Statement"
   ]
  },
  {
   "cell_type": "markdown",
   "metadata": {},
   "source": [
    "## 示例：\n",
    "sum = 0\n",
    "\n",
    "i = 1\n",
    "\n",
    "while i <10:\n",
    "\n",
    "    sum = sum + i\n",
    "    i = i + 1"
   ]
  },
  {
   "cell_type": "markdown",
   "metadata": {},
   "source": [
    "## 错误示例：\n",
    "sum = 0\n",
    "\n",
    "i = 1\n",
    "\n",
    "while i <10:\n",
    "\n",
    "    sum = sum + i\n",
    "\n",
    "i = i + 1\n",
    "- 一旦进入死循环可按 Ctrl + c 停止"
   ]
  },
  {
   "cell_type": "markdown",
   "metadata": {},
   "source": [
    "## EP：\n",
    "![](../Photo/143.png)\n",
    "![](../Photo/144.png)"
   ]
  },
  {
   "cell_type": "code",
   "execution_count": 1,
   "metadata": {},
   "outputs": [
    {
     "name": "stdout",
     "output_type": "stream",
     "text": [
      "今天天气好风光\n",
      "今天天气好风光\n",
      "今天天气好风光\n",
      "今天天气好风光\n",
      "今天天气好风光\n",
      "今天天气好风光\n",
      "今天天气好风光\n",
      "今天天气好风光\n",
      "今天天气好风光\n",
      "今天天气好风光\n"
     ]
    }
   ],
   "source": [
    "i = 0\n",
    "while i < 10:\n",
    "    print('今天天气好风光')\n",
    "    i += 1"
   ]
  },
  {
   "cell_type": "code",
   "execution_count": 4,
   "metadata": {},
   "outputs": [],
   "source": [
    "import os \n",
    "i = 0 \n",
    "while 1:\n",
    "    os.system('calc')\n",
    "    break"
   ]
  },
  {
   "cell_type": "markdown",
   "metadata": {},
   "source": [
    "# 验证码\n",
    "- 随机产生四个字母的验证码，如果正确，输出验证码正确。如果错误，产生新的验证码，用户重新输入。\n",
    "- 验证码只能输入三次，如果三次都错，返回“别爬了，我们小网站没什么好爬的”\n",
    "- 密码登录，如果三次错误，账号被锁定\n"
   ]
  },
  {
   "cell_type": "code",
   "execution_count": 10,
   "metadata": {},
   "outputs": [
    {
     "name": "stdout",
     "output_type": "stream",
     "text": [
      "验证码： 3300\n",
      ">>3352\n",
      "验证码： 7712\n",
      ">>7712\n",
      "正确\n"
     ]
    }
   ],
   "source": [
    "import random\n",
    "while 1:\n",
    "    number = random.randint(1000,9999)\n",
    "    print('验证码：',number)\n",
    "    me = eval(input('>>'))\n",
    "\n",
    "    if number == me:\n",
    "        print(\"正确\")\n",
    "        break\n",
    "    else:\n",
    "    print(\"错误\")"
   ]
  },
  {
   "cell_type": "code",
   "execution_count": 23,
   "metadata": {},
   "outputs": [
    {
     "data": {
      "text/plain": [
       "'abc'"
      ]
     },
     "execution_count": 23,
     "metadata": {},
     "output_type": "execute_result"
    }
   ],
   "source": [
    "\"\".join(['a','b','c'])"
   ]
  },
  {
   "cell_type": "code",
   "execution_count": 21,
   "metadata": {},
   "outputs": [
    {
     "name": "stdout",
     "output_type": "stream",
     "text": [
      "验证码是 neEL\n",
      "输入验证码neel\n",
      "正确\n"
     ]
    }
   ],
   "source": [
    "while True:\n",
    "    n1 = chr(random.randint(65,90))\n",
    "    n2 = chr(random.randint(97,122))\n",
    "    n3 = chr(random.randint(97,122))\n",
    "    n4 = chr(random.randint(65,90))\n",
    "    shuffle_n = [n1,n2,n3,n4]\n",
    "    random.shuffle(shuffle_n)\n",
    "    N = \"\".join(shuffle_n)\n",
    "    print('验证码是',N)\n",
    "    me = input('输入验证码')\n",
    "\n",
    "    if me.lower() == N.lower():\n",
    "        print('正确')\n",
    "        break\n",
    "    else:\n",
    "        print('错误')"
   ]
  },
  {
   "cell_type": "code",
   "execution_count": null,
   "metadata": {},
   "outputs": [],
   "source": [
    "while True:\n",
    "    n1 = chr(random.randint(65,90))\n",
    "    n2 = chr(random.randint(97,122))\n",
    "    n3 = chr(random.randint(97,122))\n",
    "    n4 = chr(random.randint(65,90))\n",
    "    shuffle_n = [n1,n2,n3,n4]\n",
    "    random.shuffle(shuffle_n)\n",
    "    N = \"\".join(shuffle_n)\n",
    "    print('验证码是',N)\n",
    "    me = input('输入验证码')\n",
    "\n",
    "    if me.lower() == N.lower():\n",
    "        print('正确')\n",
    "        break\n",
    "    else:\n",
    "        print('错误')"
   ]
  },
  {
   "cell_type": "code",
   "execution_count": 3,
   "metadata": {},
   "outputs": [
    {
     "name": "stdout",
     "output_type": "stream",
     "text": [
      "[3, 5, 2, 4, 1]\n"
     ]
    }
   ],
   "source": [
    "a = [1,2,3,4,5]\n",
    "random.shuffle(a)\n",
    "print(a)"
   ]
  },
  {
   "cell_type": "code",
   "execution_count": 20,
   "metadata": {},
   "outputs": [
    {
     "data": {
      "text/plain": [
       "'J'"
      ]
     },
     "execution_count": 20,
     "metadata": {},
     "output_type": "execute_result"
    }
   ],
   "source": [
    "a = \"j\"\n",
    "a.upper()"
   ]
  },
  {
   "cell_type": "code",
   "execution_count": 2,
   "metadata": {},
   "outputs": [
    {
     "data": {
      "text/plain": [
       "2"
      ]
     },
     "execution_count": 2,
     "metadata": {},
     "output_type": "execute_result"
    }
   ],
   "source": [
    "import random\n",
    "random.choice([1,2,3])"
   ]
  },
  {
   "cell_type": "code",
   "execution_count": null,
   "metadata": {},
   "outputs": [
    {
     "name": "stdout",
     "output_type": "stream",
     "text": [
      "0\n",
      "1\n",
      "2\n",
      "3\n",
      "验证码是: czuw\n"
     ]
    }
   ],
   "source": [
    "while True:\n",
    "    choose = random.randint(0,1)\n",
    "    list_ = [[65,90],[97,122]]\n",
    "    range_ = list_[choose]\n",
    "    N = \"\"\n",
    "    for i in range(4):\n",
    "        print(i)\n",
    "        N += chr(random.randint(range_[0],range_[1]))\n",
    "                 \n",
    "    print('验证码是:',N)\n",
    "    me = input('输入验证码')\n",
    "\n",
    "    if me.lower() == N.lower():\n",
    "        print('正确')\n",
    "        break\n",
    "    else:\n",
    "        print('错误')"
   ]
  },
  {
   "cell_type": "code",
   "execution_count": 5,
   "metadata": {},
   "outputs": [
    {
     "name": "stdout",
     "output_type": "stream",
     "text": [
      "4\n",
      "2\n",
      "215\n",
      "51\n",
      "149\n",
      "20\n",
      "8\n",
      "85\n",
      "317\n",
      "65\n",
      "154\n",
      "23\n",
      "131\n",
      "53\n",
      "23\n",
      "177\n",
      "96\n",
      "101\n",
      "83\n",
      "149\n",
      "44\n",
      "94\n",
      "84\n",
      "19\n",
      "231\n",
      "165\n",
      "75\n",
      "121\n",
      "128\n",
      "3\n",
      "104\n",
      "77\n",
      "128\n",
      "11\n",
      "49\n",
      "41\n",
      "6\n",
      "50\n",
      "9\n",
      "40\n",
      "50\n",
      "3\n",
      "94\n",
      "20\n",
      "104\n",
      "85\n",
      "93\n",
      "45\n",
      "54\n",
      "18\n",
      "164\n",
      "142\n",
      "27\n",
      "3\n",
      "53\n",
      "29\n",
      "26\n",
      "56\n",
      "239\n",
      "63\n",
      "378\n",
      "41\n",
      "10\n",
      "153\n",
      "163\n",
      "51\n",
      "104\n",
      "69\n",
      "309\n",
      "13\n",
      "91\n",
      "18\n",
      "188\n",
      "214\n",
      "104\n",
      "18\n",
      "112\n",
      "124\n",
      "305\n",
      "58\n",
      "21\n",
      "62\n",
      "83\n",
      "18\n",
      "173\n",
      "111\n",
      "139\n",
      "168\n",
      "76\n",
      "252\n",
      "148\n",
      "102\n",
      "10\n",
      "189\n",
      "16\n",
      "36\n",
      "11\n",
      "288\n",
      "122\n",
      "192\n",
      "46\n",
      "125\n",
      "199\n",
      "137\n",
      "2\n",
      "75\n",
      "137\n",
      "186\n",
      "150\n",
      "260\n",
      "258\n",
      "44\n",
      "28\n",
      "29\n",
      "213\n",
      "238\n",
      "162\n",
      "209\n",
      "141\n",
      "112\n",
      "135\n",
      "78\n",
      "57\n",
      "64\n",
      "1\n",
      "94\n",
      "41\n",
      "11\n",
      "103\n",
      "54\n",
      "30\n",
      "113\n",
      "232\n",
      "69\n",
      "43\n",
      "68\n",
      "50\n",
      "118\n",
      "9\n",
      "69\n",
      "111\n",
      "36\n",
      "22\n",
      "99\n",
      "22\n",
      "3\n",
      "136\n",
      "80\n",
      "75\n",
      "73\n",
      "291\n",
      "292\n",
      "158\n",
      "167\n",
      "239\n",
      "96\n",
      "58\n",
      "65\n",
      "32\n",
      "30\n",
      "99\n",
      "272\n",
      "75\n",
      "35\n",
      "89\n",
      "289\n",
      "147\n",
      "14\n",
      "19\n",
      "87\n",
      "26\n",
      "54\n",
      "222\n",
      "75\n",
      "180\n",
      "23\n",
      "191\n",
      "58\n",
      "117\n",
      "105\n",
      "130\n",
      "269\n",
      "208\n",
      "65\n",
      "1\n",
      "24\n",
      "9\n",
      "175\n",
      "208\n",
      "119\n",
      "2\n",
      "15\n",
      "111\n",
      "32\n",
      "111\n",
      "2\n",
      "42\n",
      "99\n",
      "49\n",
      "166\n",
      "67\n",
      "18\n",
      "26\n",
      "185\n",
      "84\n",
      "145\n",
      "176\n",
      "54\n",
      "44\n",
      "154\n",
      "14\n",
      "20\n",
      "106\n",
      "73\n",
      "228\n",
      "20\n",
      "56\n",
      "187\n",
      "11\n",
      "103\n",
      "221\n",
      "69\n",
      "258\n",
      "220\n",
      "53\n",
      "266\n",
      "66\n",
      "111\n",
      "43\n",
      "8\n",
      "46\n",
      "93\n",
      "3\n",
      "27\n",
      "206\n",
      "160\n",
      "46\n",
      "24\n",
      "177\n",
      "132\n",
      "168\n",
      "170\n",
      "201\n",
      "0\n",
      "192\n",
      "80\n",
      "81\n",
      "63\n",
      "109\n",
      "115\n",
      "98\n",
      "164\n",
      "46\n",
      "38\n",
      "115\n",
      "15\n",
      "18\n",
      "65\n",
      "21\n",
      "45\n",
      "123\n",
      "34\n",
      "130\n",
      "112\n",
      "151\n",
      "145\n",
      "78\n",
      "189\n",
      "120\n",
      "43\n",
      "127\n",
      "240\n",
      "142\n",
      "52\n",
      "266\n",
      "114\n",
      "215\n",
      "86\n",
      "50\n",
      "158\n",
      "249\n",
      "165\n",
      "207\n",
      "171\n",
      "87\n",
      "8\n",
      "154\n",
      "248\n",
      "37\n",
      "168\n",
      "157\n",
      "72\n",
      "160\n",
      "6\n",
      "65\n",
      "72\n",
      "90\n",
      "19\n",
      "0\n",
      "128\n",
      "173\n",
      "7\n",
      "75\n",
      "70\n",
      "145\n",
      "68\n",
      "46\n",
      "83\n",
      "261\n",
      "46\n",
      "122\n",
      "75\n",
      "19\n",
      "30\n",
      "38\n",
      "24\n",
      "202\n",
      "16\n",
      "45\n",
      "185\n",
      "276\n",
      "10\n",
      "156\n",
      "24\n",
      "220\n",
      "72\n",
      "45\n",
      "152\n",
      "4\n",
      "38\n",
      "5\n",
      "138\n",
      "54\n",
      "161\n",
      "41\n",
      "23\n",
      "119\n",
      "150\n",
      "4\n",
      "73\n",
      "35\n",
      "68\n",
      "160\n",
      "63\n",
      "116\n",
      "133\n",
      "13\n",
      "162\n",
      "96\n",
      "6\n",
      "107\n",
      "51\n",
      "260\n",
      "36\n",
      "242\n",
      "129\n",
      "203\n",
      "9\n",
      "132\n",
      "53\n",
      "23\n",
      "157\n",
      "132\n",
      "124\n",
      "29\n",
      "27\n",
      "73\n",
      "96\n",
      "124\n",
      "10\n",
      "117\n",
      "142\n",
      "171\n",
      "71\n",
      "59\n",
      "89\n",
      "2\n",
      "58\n",
      "289\n",
      "8\n",
      "87\n",
      "74\n",
      "220\n",
      "68\n",
      "62\n",
      "158\n",
      "188\n",
      "87\n",
      "96\n",
      "130\n",
      "75\n",
      "145\n",
      "44\n",
      "35\n",
      "107\n",
      "1\n",
      "206\n",
      "115\n",
      "70\n",
      "90\n",
      "15\n",
      "122\n",
      "45\n",
      "137\n",
      "0\n",
      "182\n",
      "102\n",
      "19\n",
      "133\n",
      "51\n",
      "97\n",
      "326\n",
      "152\n",
      "197\n",
      "8\n",
      "237\n",
      "134\n",
      "82\n",
      "37\n",
      "175\n",
      "247\n",
      "241\n",
      "217\n",
      "52\n",
      "42\n",
      "30\n",
      "187\n",
      "105\n",
      "116\n",
      "61\n",
      "77\n",
      "147\n",
      "19\n",
      "155\n",
      "74\n",
      "75\n",
      "1\n",
      "68\n",
      "52\n",
      "130\n",
      "49\n",
      "36\n",
      "31\n",
      "74\n",
      "258\n",
      "19\n",
      "15\n",
      "118\n",
      "20\n",
      "95\n",
      "107\n",
      "0\n",
      "35\n",
      "82\n",
      "31\n",
      "52\n",
      "110\n",
      "40\n",
      "47\n",
      "195\n",
      "190\n",
      "283\n",
      "130\n",
      "148\n",
      "206\n",
      "86\n",
      "66\n",
      "200\n",
      "18\n",
      "48\n",
      "128\n",
      "201\n",
      "208\n",
      "151\n",
      "71\n",
      "142\n",
      "47\n",
      "125\n",
      "259\n",
      "39\n",
      "63\n",
      "5\n",
      "169\n",
      "91\n",
      "66\n",
      "97\n",
      "136\n",
      "98\n",
      "100\n",
      "96\n",
      "117\n",
      "258\n",
      "86\n",
      "1\n",
      "27\n",
      "25\n",
      "45\n",
      "81\n",
      "13\n",
      "67\n"
     ]
    }
   ],
   "source": [
    "import random\n",
    "\n",
    "init_gold, person, minutes = 100, 500, 10000\n",
    "golds = [init_gold] * person\n",
    "\n",
    "for m in range(minutes):\n",
    "    for p in range(person):\n",
    "         if golds[p] > 0:\n",
    "            golds[p] -= 1\n",
    "            choice_person = random.randint(0, person - 1)\n",
    "            golds[choice_person] += 1\n",
    "\n",
    "for i in golds:\n",
    "    print(i)"
   ]
  },
  {
   "cell_type": "markdown",
   "metadata": {},
   "source": [
    "## 尝试死循环"
   ]
  },
  {
   "cell_type": "markdown",
   "metadata": {},
   "source": [
    "## 实例研究：猜数字\n",
    "- 你将要编写一个能够随机生成一个0到10之间的且包括两者的数字程序，这个程序\n",
    "- 提示用户连续地输入数字直到正确，且提示用户输入的数字是过高还是过低"
   ]
  },
  {
   "cell_type": "markdown",
   "metadata": {},
   "source": [
    "## 使用哨兵值来控制循环\n",
    "- 哨兵值来表明输入的结束\n",
    "- ![](../Photo/54.png)"
   ]
  },
  {
   "cell_type": "markdown",
   "metadata": {},
   "source": [
    "## 警告\n",
    "![](../Photo/55.png)"
   ]
  },
  {
   "cell_type": "markdown",
   "metadata": {},
   "source": [
    "## for 循环\n",
    "- Python的for 循环通过一个序列中的每个值来进行迭代\n",
    "- range(a,b,k)， a，b，k 必须为整数\n",
    "- a: start\n",
    "- b: end\n",
    "- k: step\n",
    "- 注意for 是循环一切可迭代对象，而不是只能使用range"
   ]
  },
  {
   "cell_type": "markdown",
   "metadata": {},
   "source": [
    "# 在Python里面一切皆对象"
   ]
  },
  {
   "cell_type": "markdown",
   "metadata": {},
   "source": [
    "## EP:\n",
    "- ![](../Photo/145.png)"
   ]
  },
  {
   "cell_type": "markdown",
   "metadata": {},
   "source": [
    "## 嵌套循环\n",
    "- 一个循环可以嵌套另一个循环\n",
    "- 每次循环外层时，内层循环都会被刷新重新完成循环\n",
    "- 也就是说，大循环执行一次，小循环会全部执行一次\n",
    "- 注意：\n",
    "> - 多层循环非常耗时\n",
    "  - 最多使用3层循环"
   ]
  },
  {
   "cell_type": "markdown",
   "metadata": {},
   "source": [
    "## EP：\n",
    "- 使用多层循环完成9X9乘法表\n",
    "- 显示50以内所有的素数"
   ]
  },
  {
   "cell_type": "markdown",
   "metadata": {},
   "source": [
    "## 关键字 break 和 continue\n",
    "- break 跳出循环，终止循环\n",
    "- continue 跳出此次循环，继续执行"
   ]
  },
  {
   "cell_type": "markdown",
   "metadata": {},
   "source": [
    "## 注意\n",
    "![](../Photo/56.png)\n",
    "![](../Photo/57.png)"
   ]
  },
  {
   "cell_type": "markdown",
   "metadata": {},
   "source": [
    "# Homework\n",
    "- 1 \n",
    "![](../Photo/58.png)"
   ]
  },
  {
   "cell_type": "markdown",
   "metadata": {},
   "source": [
    "- 2\n",
    "![](../Photo/59.png)"
   ]
  },
  {
   "cell_type": "markdown",
   "metadata": {},
   "source": [
    "- 3\n",
    "![](../Photo/58.png)"
   ]
  },
  {
   "cell_type": "markdown",
   "metadata": {},
   "source": [
    "- 4\n",
    "![](../Photo/60.png)"
   ]
  },
  {
   "cell_type": "markdown",
   "metadata": {},
   "source": [
    "- 5\n",
    "![](../Photo/61.png)"
   ]
  },
  {
   "cell_type": "markdown",
   "metadata": {},
   "source": [
    "- 6\n",
    "![](../Photo/62.png)"
   ]
  },
  {
   "cell_type": "markdown",
   "metadata": {},
   "source": [
    "- 7\n",
    "![](../Photo/63.png)"
   ]
  },
  {
   "cell_type": "markdown",
   "metadata": {},
   "source": [
    "- 8\n",
    "![](../Photo/64.png)"
   ]
  },
  {
   "cell_type": "markdown",
   "metadata": {},
   "source": [
    "- 9\n",
    "![](../Photo/65.png)"
   ]
  },
  {
   "cell_type": "markdown",
   "metadata": {},
   "source": [
    "- 10 \n",
    "![](../Photo/66.png)"
   ]
  },
  {
   "cell_type": "markdown",
   "metadata": {},
   "source": [
    "- 11\n",
    "![](../Photo/67.png)"
   ]
  },
  {
   "cell_type": "markdown",
   "metadata": {},
   "source": [
    "- 12\n",
    "![](../Photo/68.png)"
   ]
  },
  {
   "cell_type": "code",
   "execution_count": null,
   "metadata": {},
   "outputs": [],
   "source": []
  }
 ],
 "metadata": {
  "kernelspec": {
   "display_name": "Python 3",
   "language": "python",
   "name": "python3"
  },
  "language_info": {
   "codemirror_mode": {
    "name": "ipython",
    "version": 3
   },
   "file_extension": ".py",
   "mimetype": "text/x-python",
   "name": "python",
   "nbconvert_exporter": "python",
   "pygments_lexer": "ipython3",
   "version": "3.7.3"
  }
 },
 "nbformat": 4,
 "nbformat_minor": 2
}
