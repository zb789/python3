{
 "cells": [
  {
   "cell_type": "markdown",
   "metadata": {},
   "source": [
    "# 循环\n",
    "- 循环是一种控制语句块重复执行的结构\n",
    "- while  适用于广度遍历\n",
    "- for    开发中经常使用"
   ]
  },
  {
   "cell_type": "markdown",
   "metadata": {},
   "source": [
    "## while 循环\n",
    "- 当一个条件保持真的时候while循环重复执行语句\n",
    "- while 循环一定要有结束条件，否则很容易进入死循环\n",
    "- while 循环的语法是：\n",
    "\n",
    "    while loop-contunuation-conndition:\n",
    "\n",
    "        Statement"
   ]
  },
  {
   "cell_type": "markdown",
   "metadata": {},
   "source": [
    "## 示例：\n",
    "sum = 0\n",
    "\n",
    "i = 1\n",
    "\n",
    "while i <10:\n",
    "\n",
    "    sum = sum + i\n",
    "    i = i + 1"
   ]
  },
  {
   "cell_type": "markdown",
   "metadata": {},
   "source": [
    "## 错误示例：\n",
    "sum = 0\n",
    "\n",
    "i = 1\n",
    "\n",
    "while i <10:\n",
    "\n",
    "    sum = sum + i\n",
    "\n",
    "i = i + 1\n",
    "- 一旦进入死循环可按 Ctrl + c 停止"
   ]
  },
  {
   "cell_type": "markdown",
   "metadata": {},
   "source": [
    "## EP：\n",
    "![](../Photo/143.png)\n",
    "![](../Photo/144.png)"
   ]
  },
  {
   "cell_type": "code",
   "execution_count": 1,
   "metadata": {},
   "outputs": [
    {
     "name": "stdout",
     "output_type": "stream",
     "text": [
      "今天天气好风光\n",
      "今天天气好风光\n",
      "今天天气好风光\n",
      "今天天气好风光\n",
      "今天天气好风光\n",
      "今天天气好风光\n",
      "今天天气好风光\n",
      "今天天气好风光\n",
      "今天天气好风光\n",
      "今天天气好风光\n"
     ]
    }
   ],
   "source": [
    "i = 0\n",
    "while i < 10:\n",
    "    print('今天天气好风光')\n",
    "    i += 1"
   ]
  },
  {
   "cell_type": "code",
   "execution_count": 4,
   "metadata": {},
   "outputs": [],
   "source": [
    "import os \n",
    "i = 0 \n",
    "while 1:\n",
    "    os.system('calc')\n",
    "    break"
   ]
  },
  {
   "cell_type": "markdown",
   "metadata": {},
   "source": [
    "# 验证码\n",
    "- 随机产生四个字母的验证码，如果正确，输出验证码正确。如果错误，产生新的验证码，用户重新输入。\n",
    "- 验证码只能输入三次，如果三次都错，返回“别爬了，我们小网站没什么好爬的”\n",
    "- 密码登录，如果三次错误，账号被锁定\n"
   ]
  },
  {
   "cell_type": "code",
   "execution_count": 10,
   "metadata": {},
   "outputs": [
    {
     "name": "stdout",
     "output_type": "stream",
     "text": [
      "验证码： 3300\n",
      ">>3352\n",
      "验证码： 7712\n",
      ">>7712\n",
      "正确\n"
     ]
    }
   ],
   "source": [
    "import random\n",
    "while 1:\n",
    "    number = random.randint(1000,9999)\n",
    "    print('验证码：',number)\n",
    "    me = eval(input('>>'))\n",
    "\n",
    "    if number == me:\n",
    "        print(\"正确\")\n",
    "        break\n",
    "    else:\n",
    "    print(\"错误\")"
   ]
  },
  {
   "cell_type": "code",
   "execution_count": 23,
   "metadata": {},
   "outputs": [
    {
     "data": {
      "text/plain": [
       "'abc'"
      ]
     },
     "execution_count": 23,
     "metadata": {},
     "output_type": "execute_result"
    }
   ],
   "source": [
    "\"\".join(['a','b','c'])"
   ]
  },
  {
   "cell_type": "code",
   "execution_count": 21,
   "metadata": {},
   "outputs": [
    {
     "name": "stdout",
     "output_type": "stream",
     "text": [
      "验证码是 neEL\n",
      "输入验证码neel\n",
      "正确\n"
     ]
    }
   ],
   "source": [
    "while True:\n",
    "    n1 = chr(random.randint(65,90))\n",
    "    n2 = chr(random.randint(97,122))\n",
    "    n3 = chr(random.randint(97,122))\n",
    "    n4 = chr(random.randint(65,90))\n",
    "    shuffle_n = [n1,n2,n3,n4]\n",
    "    random.shuffle(shuffle_n)\n",
    "    N = \"\".join(shuffle_n)\n",
    "    print('验证码是',N)\n",
    "    me = input('输入验证码')\n",
    "\n",
    "    if me.lower() == N.lower():\n",
    "        print('正确')\n",
    "        break\n",
    "    else:\n",
    "        print('错误')"
   ]
  },
  {
   "cell_type": "code",
   "execution_count": null,
   "metadata": {},
   "outputs": [],
   "source": [
    "while True:\n",
    "    n1 = chr(random.randint(65,90))\n",
    "    n2 = chr(random.randint(97,122))\n",
    "    n3 = chr(random.randint(97,122))\n",
    "    n4 = chr(random.randint(65,90))\n",
    "    shuffle_n = [n1,n2,n3,n4]\n",
    "    random.shuffle(shuffle_n)\n",
    "    N = \"\".join(shuffle_n)\n",
    "    print('验证码是',N)\n",
    "    me = input('输入验证码')\n",
    "\n",
    "    if me.lower() == N.lower():\n",
    "        print('正确')\n",
    "        break\n",
    "    else:\n",
    "        print('错误')"
   ]
  },
  {
   "cell_type": "code",
   "execution_count": 3,
   "metadata": {},
   "outputs": [
    {
     "name": "stdout",
     "output_type": "stream",
     "text": [
      "[3, 5, 2, 4, 1]\n"
     ]
    }
   ],
   "source": [
    "a = [1,2,3,4,5]\n",
    "random.shuffle(a)\n",
    "print(a)"
   ]
  },
  {
   "cell_type": "code",
   "execution_count": 20,
   "metadata": {},
   "outputs": [
    {
     "data": {
      "text/plain": [
       "'J'"
      ]
     },
     "execution_count": 20,
     "metadata": {},
     "output_type": "execute_result"
    }
   ],
   "source": [
    "a = \"j\"\n",
    "a.upper()"
   ]
  },
  {
   "cell_type": "code",
   "execution_count": 2,
   "metadata": {},
   "outputs": [
    {
     "data": {
      "text/plain": [
       "2"
      ]
     },
     "execution_count": 2,
     "metadata": {},
     "output_type": "execute_result"
    }
   ],
   "source": [
    "import random\n",
    "random.choice([1,2,3])"
   ]
  },
  {
   "cell_type": "code",
   "execution_count": null,
   "metadata": {
    "scrolled": true
   },
   "outputs": [
    {
     "name": "stdout",
     "output_type": "stream",
     "text": [
      "0\n",
      "1\n",
      "2\n",
      "3\n",
      "验证码是: czuw\n"
     ]
    }
   ],
   "source": [
    "while True:\n",
    "    choose = random.randint(0,1)\n",
    "    list_ = [[65,90],[97,122]]\n",
    "    range_ = list_[choose]\n",
    "    N = \"\"\n",
    "    for i in range(4):\n",
    "        print(i)\n",
    "        N += chr(random.randint(range_[0],range_[1]))\n",
    "                 \n",
    "    print('验证码是:',N)\n",
    "    me = input('输入验证码')\n",
    "\n",
    "    if me.lower() == N.lower():\n",
    "        print('正确')\n",
    "        break\n",
    "    else:\n",
    "        print('错误')"
   ]
  },
  {
   "cell_type": "code",
   "execution_count": 5,
   "metadata": {},
   "outputs": [
    {
     "name": "stdout",
     "output_type": "stream",
     "text": [
      "4\n",
      "2\n",
      "215\n",
      "51\n",
      "149\n",
      "20\n",
      "8\n",
      "85\n",
      "317\n",
      "65\n",
      "154\n",
      "23\n",
      "131\n",
      "53\n",
      "23\n",
      "177\n",
      "96\n",
      "101\n",
      "83\n",
      "149\n",
      "44\n",
      "94\n",
      "84\n",
      "19\n",
      "231\n",
      "165\n",
      "75\n",
      "121\n",
      "128\n",
      "3\n",
      "104\n",
      "77\n",
      "128\n",
      "11\n",
      "49\n",
      "41\n",
      "6\n",
      "50\n",
      "9\n",
      "40\n",
      "50\n",
      "3\n",
      "94\n",
      "20\n",
      "104\n",
      "85\n",
      "93\n",
      "45\n",
      "54\n",
      "18\n",
      "164\n",
      "142\n",
      "27\n",
      "3\n",
      "53\n",
      "29\n",
      "26\n",
      "56\n",
      "239\n",
      "63\n",
      "378\n",
      "41\n",
      "10\n",
      "153\n",
      "163\n",
      "51\n",
      "104\n",
      "69\n",
      "309\n",
      "13\n",
      "91\n",
      "18\n",
      "188\n",
      "214\n",
      "104\n",
      "18\n",
      "112\n",
      "124\n",
      "305\n",
      "58\n",
      "21\n",
      "62\n",
      "83\n",
      "18\n",
      "173\n",
      "111\n",
      "139\n",
      "168\n",
      "76\n",
      "252\n",
      "148\n",
      "102\n",
      "10\n",
      "189\n",
      "16\n",
      "36\n",
      "11\n",
      "288\n",
      "122\n",
      "192\n",
      "46\n",
      "125\n",
      "199\n",
      "137\n",
      "2\n",
      "75\n",
      "137\n",
      "186\n",
      "150\n",
      "260\n",
      "258\n",
      "44\n",
      "28\n",
      "29\n",
      "213\n",
      "238\n",
      "162\n",
      "209\n",
      "141\n",
      "112\n",
      "135\n",
      "78\n",
      "57\n",
      "64\n",
      "1\n",
      "94\n",
      "41\n",
      "11\n",
      "103\n",
      "54\n",
      "30\n",
      "113\n",
      "232\n",
      "69\n",
      "43\n",
      "68\n",
      "50\n",
      "118\n",
      "9\n",
      "69\n",
      "111\n",
      "36\n",
      "22\n",
      "99\n",
      "22\n",
      "3\n",
      "136\n",
      "80\n",
      "75\n",
      "73\n",
      "291\n",
      "292\n",
      "158\n",
      "167\n",
      "239\n",
      "96\n",
      "58\n",
      "65\n",
      "32\n",
      "30\n",
      "99\n",
      "272\n",
      "75\n",
      "35\n",
      "89\n",
      "289\n",
      "147\n",
      "14\n",
      "19\n",
      "87\n",
      "26\n",
      "54\n",
      "222\n",
      "75\n",
      "180\n",
      "23\n",
      "191\n",
      "58\n",
      "117\n",
      "105\n",
      "130\n",
      "269\n",
      "208\n",
      "65\n",
      "1\n",
      "24\n",
      "9\n",
      "175\n",
      "208\n",
      "119\n",
      "2\n",
      "15\n",
      "111\n",
      "32\n",
      "111\n",
      "2\n",
      "42\n",
      "99\n",
      "49\n",
      "166\n",
      "67\n",
      "18\n",
      "26\n",
      "185\n",
      "84\n",
      "145\n",
      "176\n",
      "54\n",
      "44\n",
      "154\n",
      "14\n",
      "20\n",
      "106\n",
      "73\n",
      "228\n",
      "20\n",
      "56\n",
      "187\n",
      "11\n",
      "103\n",
      "221\n",
      "69\n",
      "258\n",
      "220\n",
      "53\n",
      "266\n",
      "66\n",
      "111\n",
      "43\n",
      "8\n",
      "46\n",
      "93\n",
      "3\n",
      "27\n",
      "206\n",
      "160\n",
      "46\n",
      "24\n",
      "177\n",
      "132\n",
      "168\n",
      "170\n",
      "201\n",
      "0\n",
      "192\n",
      "80\n",
      "81\n",
      "63\n",
      "109\n",
      "115\n",
      "98\n",
      "164\n",
      "46\n",
      "38\n",
      "115\n",
      "15\n",
      "18\n",
      "65\n",
      "21\n",
      "45\n",
      "123\n",
      "34\n",
      "130\n",
      "112\n",
      "151\n",
      "145\n",
      "78\n",
      "189\n",
      "120\n",
      "43\n",
      "127\n",
      "240\n",
      "142\n",
      "52\n",
      "266\n",
      "114\n",
      "215\n",
      "86\n",
      "50\n",
      "158\n",
      "249\n",
      "165\n",
      "207\n",
      "171\n",
      "87\n",
      "8\n",
      "154\n",
      "248\n",
      "37\n",
      "168\n",
      "157\n",
      "72\n",
      "160\n",
      "6\n",
      "65\n",
      "72\n",
      "90\n",
      "19\n",
      "0\n",
      "128\n",
      "173\n",
      "7\n",
      "75\n",
      "70\n",
      "145\n",
      "68\n",
      "46\n",
      "83\n",
      "261\n",
      "46\n",
      "122\n",
      "75\n",
      "19\n",
      "30\n",
      "38\n",
      "24\n",
      "202\n",
      "16\n",
      "45\n",
      "185\n",
      "276\n",
      "10\n",
      "156\n",
      "24\n",
      "220\n",
      "72\n",
      "45\n",
      "152\n",
      "4\n",
      "38\n",
      "5\n",
      "138\n",
      "54\n",
      "161\n",
      "41\n",
      "23\n",
      "119\n",
      "150\n",
      "4\n",
      "73\n",
      "35\n",
      "68\n",
      "160\n",
      "63\n",
      "116\n",
      "133\n",
      "13\n",
      "162\n",
      "96\n",
      "6\n",
      "107\n",
      "51\n",
      "260\n",
      "36\n",
      "242\n",
      "129\n",
      "203\n",
      "9\n",
      "132\n",
      "53\n",
      "23\n",
      "157\n",
      "132\n",
      "124\n",
      "29\n",
      "27\n",
      "73\n",
      "96\n",
      "124\n",
      "10\n",
      "117\n",
      "142\n",
      "171\n",
      "71\n",
      "59\n",
      "89\n",
      "2\n",
      "58\n",
      "289\n",
      "8\n",
      "87\n",
      "74\n",
      "220\n",
      "68\n",
      "62\n",
      "158\n",
      "188\n",
      "87\n",
      "96\n",
      "130\n",
      "75\n",
      "145\n",
      "44\n",
      "35\n",
      "107\n",
      "1\n",
      "206\n",
      "115\n",
      "70\n",
      "90\n",
      "15\n",
      "122\n",
      "45\n",
      "137\n",
      "0\n",
      "182\n",
      "102\n",
      "19\n",
      "133\n",
      "51\n",
      "97\n",
      "326\n",
      "152\n",
      "197\n",
      "8\n",
      "237\n",
      "134\n",
      "82\n",
      "37\n",
      "175\n",
      "247\n",
      "241\n",
      "217\n",
      "52\n",
      "42\n",
      "30\n",
      "187\n",
      "105\n",
      "116\n",
      "61\n",
      "77\n",
      "147\n",
      "19\n",
      "155\n",
      "74\n",
      "75\n",
      "1\n",
      "68\n",
      "52\n",
      "130\n",
      "49\n",
      "36\n",
      "31\n",
      "74\n",
      "258\n",
      "19\n",
      "15\n",
      "118\n",
      "20\n",
      "95\n",
      "107\n",
      "0\n",
      "35\n",
      "82\n",
      "31\n",
      "52\n",
      "110\n",
      "40\n",
      "47\n",
      "195\n",
      "190\n",
      "283\n",
      "130\n",
      "148\n",
      "206\n",
      "86\n",
      "66\n",
      "200\n",
      "18\n",
      "48\n",
      "128\n",
      "201\n",
      "208\n",
      "151\n",
      "71\n",
      "142\n",
      "47\n",
      "125\n",
      "259\n",
      "39\n",
      "63\n",
      "5\n",
      "169\n",
      "91\n",
      "66\n",
      "97\n",
      "136\n",
      "98\n",
      "100\n",
      "96\n",
      "117\n",
      "258\n",
      "86\n",
      "1\n",
      "27\n",
      "25\n",
      "45\n",
      "81\n",
      "13\n",
      "67\n"
     ]
    }
   ],
   "source": [
    "import random\n",
    "\n",
    "init_gold, person, minutes = 100, 500, 10000\n",
    "golds = [init_gold] * person\n",
    "\n",
    "for m in range(minutes):\n",
    "    for p in range(person):\n",
    "         if golds[p] > 0:\n",
    "            golds[p] -= 1\n",
    "            choice_person = random.randint(0, person - 1)\n",
    "            golds[choice_person] += 1\n",
    "\n",
    "for i in golds:\n",
    "    print(i)"
   ]
  },
  {
   "cell_type": "markdown",
   "metadata": {},
   "source": [
    "## 尝试死循环"
   ]
  },
  {
   "cell_type": "markdown",
   "metadata": {},
   "source": [
    "## 实例研究：猜数字\n",
    "- 你将要编写一个能够随机生成一个0到10之间的且包括两者的数字程序，这个程序\n",
    "- 提示用户连续地输入数字直到正确，且提示用户输入的数字是过高还是过低"
   ]
  },
  {
   "cell_type": "code",
   "execution_count": null,
   "metadata": {},
   "outputs": [
    {
     "name": "stdout",
     "output_type": "stream",
     "text": [
      "Sum5\n"
     ]
    }
   ],
   "source": [
    "import random\n",
    "while 1:\n",
    "    N1 = random . randint(0,10)\n",
    "    N2 = random . randint(0,10)\n",
    "    input_ = eval(input('Sum'))\n",
    "    if N1+ N2 == input_:\n",
    "        print('正确')\n",
    "        break"
   ]
  },
  {
   "cell_type": "markdown",
   "metadata": {},
   "source": [
    "## 使用哨兵值来控制循环\n",
    "- 哨兵值来表明输入的结束\n",
    "- ![](../Photo/54.png)"
   ]
  },
  {
   "cell_type": "markdown",
   "metadata": {},
   "source": [
    "## 警告\n",
    "![](../Photo/55.png)"
   ]
  },
  {
   "cell_type": "markdown",
   "metadata": {},
   "source": [
    "## for 循环\n",
    "- Python的for 循环通过一个序列中的每个值来进行迭代\n",
    "- range(a,b,k)， a，b，k 必须为整数\n",
    "- a: start\n",
    "- b: end\n",
    "- k: step\n",
    "- 注意for 是循环一切可迭代对象，而不是只能使用range次数"
   ]
  },
  {
   "cell_type": "markdown",
   "metadata": {},
   "source": [
    "# 在Python里面一切皆对象"
   ]
  },
  {
   "cell_type": "code",
   "execution_count": 3,
   "metadata": {},
   "outputs": [
    {
     "name": "stdout",
     "output_type": "stream",
     "text": [
      "0\n",
      "1\n",
      "2\n",
      "3\n",
      "4\n",
      "5\n",
      "6\n",
      "7\n",
      "8\n",
      "9\n"
     ]
    }
   ],
   "source": [
    "for i in range(10):\n",
    "    print(i)"
   ]
  },
  {
   "cell_type": "code",
   "execution_count": 2,
   "metadata": {},
   "outputs": [
    {
     "name": "stdout",
     "output_type": "stream",
     "text": [
      "0\n",
      "2\n",
      "4\n",
      "6\n",
      "8\n"
     ]
    }
   ],
   "source": [
    "for i in range(0,10,2):\n",
    "    print(i)"
   ]
  },
  {
   "cell_type": "markdown",
   "metadata": {},
   "source": [
    "## EP:\n",
    "- ![](../Photo/145.png)"
   ]
  },
  {
   "cell_type": "code",
   "execution_count": 3,
   "metadata": {},
   "outputs": [
    {
     "name": "stdout",
     "output_type": "stream",
     "text": [
      "1001\n"
     ]
    }
   ],
   "source": [
    "sum_ = 0\n",
    "for i in range(1001):\n",
    "    sum_  += 1\n",
    "print(sum_)"
   ]
  },
  {
   "cell_type": "code",
   "execution_count": 5,
   "metadata": {},
   "outputs": [
    {
     "name": "stdout",
     "output_type": "stream",
     "text": [
      "1001\n"
     ]
    }
   ],
   "source": [
    "i = 0\n",
    "sum_ = 0\n",
    "while sum_<1001:\n",
    "    sum_ += 1\n",
    "print(sum_)"
   ]
  },
  {
   "cell_type": "code",
   "execution_count": 7,
   "metadata": {},
   "outputs": [
    {
     "name": "stdout",
     "output_type": "stream",
     "text": [
      "142\n",
      "10011\n"
     ]
    }
   ],
   "source": [
    "i = 1\n",
    "sum_ = 0\n",
    "while sum_<10000:\n",
    "    sum_ = sum_ + i\n",
    "    i += 1\n",
    "print(i)\n",
    "print(sum_)"
   ]
  },
  {
   "cell_type": "code",
   "execution_count": 8,
   "metadata": {},
   "outputs": [
    {
     "name": "stdout",
     "output_type": "stream",
     "text": [
      "10011\n",
      "141\n"
     ]
    }
   ],
   "source": [
    "sum_ = 0\n",
    "for i in range(10000):\n",
    "    sum_ += i\n",
    "    if sum_ > 10000:\n",
    "        break\n",
    "print(sum_)\n",
    "print(i)"
   ]
  },
  {
   "cell_type": "markdown",
   "metadata": {},
   "source": [
    "## 嵌套循环\n",
    "- 一个循环可以嵌套另一个循环\n",
    "- 每次循环外层时，内层循环都会被刷新重新完成循环\n",
    "- 也就是说，大循环执行一次，小循环会全部执行一次\n",
    "- 注意：\n",
    "> - 多层循环非常耗时\n",
    "  - 最多使用3层循环"
   ]
  },
  {
   "cell_type": "markdown",
   "metadata": {},
   "source": [
    "## EP：\n",
    "- 使用多层循环完成9X9乘法表\n",
    "- 显示50以内所有的素数"
   ]
  },
  {
   "cell_type": "code",
   "execution_count": 16,
   "metadata": {},
   "outputs": [
    {
     "name": "stdout",
     "output_type": "stream",
     "text": [
      "1 * 1 = 1|\n",
      "2 * 1 = 2|2 * 2 = 4|\n",
      "3 * 1 = 3|3 * 2 = 6|3 * 3 = 9|\n",
      "4 * 1 = 4|4 * 2 = 8|4 * 3 = 12|4 * 4 = 16|\n",
      "5 * 1 = 5|5 * 2 = 10|5 * 3 = 15|5 * 4 = 20|5 * 5 = 25|\n",
      "6 * 1 = 6|6 * 2 = 12|6 * 3 = 18|6 * 4 = 24|6 * 5 = 30|6 * 6 = 36|\n",
      "7 * 1 = 7|7 * 2 = 14|7 * 3 = 21|7 * 4 = 28|7 * 5 = 35|7 * 6 = 42|7 * 7 = 49|\n",
      "8 * 1 = 8|8 * 2 = 16|8 * 3 = 24|8 * 4 = 32|8 * 5 = 40|8 * 6 = 48|8 * 7 = 56|8 * 8 = 64|\n",
      "9 * 1 = 9|9 * 2 = 18|9 * 3 = 27|9 * 4 = 36|9 * 5 = 45|9 * 6 = 54|9 * 7 = 63|9 * 8 = 72|9 * 9 = 81|\n"
     ]
    }
   ],
   "source": [
    "for i in range(1,10):\n",
    "    for j in range(1,i+1):\n",
    "        print('%s * %s = %s'%(i,j,i*j),end = '|')\n",
    "    print()"
   ]
  },
  {
   "cell_type": "code",
   "execution_count": 4,
   "metadata": {},
   "outputs": [
    {
     "name": "stdout",
     "output_type": "stream",
     "text": [
      "1 是素数\n",
      "2 是素数\n",
      "3 不是素数\n",
      "4 不是素数\n",
      "5 是素数\n",
      "6 不是素数\n",
      "7 是素数\n",
      "8 不是素数\n",
      "9 不是素数\n",
      "10 不是素数\n",
      "11 是素数\n",
      "12 不是素数\n",
      "13 是素数\n",
      "14 不是素数\n",
      "15 不是素数\n",
      "16 不是素数\n",
      "17 是素数\n",
      "18 不是素数\n",
      "19 是素数\n",
      "20 不是素数\n",
      "21 不是素数\n",
      "22 不是素数\n",
      "23 是素数\n",
      "24 不是素数\n",
      "25 是素数\n",
      "26 不是素数\n",
      "27 不是素数\n",
      "28 不是素数\n",
      "29 是素数\n",
      "30 不是素数\n",
      "31 是素数\n",
      "32 不是素数\n",
      "33 不是素数\n",
      "34 不是素数\n",
      "35 是素数\n",
      "36 不是素数\n",
      "37 是素数\n",
      "38 不是素数\n",
      "39 不是素数\n",
      "40 不是素数\n",
      "41 是素数\n",
      "42 不是素数\n",
      "43 是素数\n",
      "44 不是素数\n",
      "45 不是素数\n",
      "46 不是素数\n",
      "47 是素数\n",
      "48 不是素数\n",
      "49 是素数\n"
     ]
    }
   ],
   "source": [
    "for i in range(1,50):\n",
    "    if i == 2:\n",
    "        print(i,'是素数')\n",
    "    elif i % 2 == 0 or i % 3 == 0:\n",
    "        print(i,'不是素数')\n",
    "    else:\n",
    "        print(i,'是素数')"
   ]
  },
  {
   "cell_type": "markdown",
   "metadata": {},
   "source": [
    "## 关键字 break 和 continue\n",
    "- break 跳出循环，终止循环\n",
    "- continue 跳出此次循环，继续执行"
   ]
  },
  {
   "cell_type": "code",
   "execution_count": 11,
   "metadata": {},
   "outputs": [
    {
     "name": "stdout",
     "output_type": "stream",
     "text": [
      "0 0\n",
      "0 1\n",
      "0 2\n",
      "0 3\n",
      "0 4\n",
      "0 5\n",
      "0 6\n",
      "0 7\n",
      "0 8\n",
      "0 9\n",
      "1 0\n",
      "1 1\n",
      "1 2\n",
      "1 3\n",
      "1 4\n",
      "1 5\n",
      "1 6\n",
      "1 7\n",
      "1 8\n",
      "1 9\n",
      "2 0\n",
      "2 1\n",
      "2 2\n",
      "2 3\n",
      "2 4\n",
      "2 5\n",
      "2 6\n",
      "2 7\n",
      "2 8\n",
      "2 9\n",
      "3 0\n",
      "3 1\n",
      "3 2\n",
      "3 3\n",
      "3 4\n",
      "3 5\n",
      "3 6\n",
      "3 7\n",
      "3 8\n",
      "3 9\n",
      "4 0\n",
      "4 1\n",
      "4 2\n",
      "4 3\n",
      "4 4\n",
      "4 5\n",
      "4 6\n",
      "4 7\n",
      "4 8\n",
      "4 9\n",
      "5 0\n",
      "5 1\n",
      "5 2\n",
      "5 3\n",
      "5 4\n",
      "5 5\n",
      "5 6\n",
      "5 7\n",
      "5 8\n",
      "5 9\n",
      "6 0\n",
      "6 1\n",
      "6 2\n",
      "6 3\n",
      "6 4\n",
      "6 5\n",
      "6 6\n",
      "6 7\n",
      "6 8\n",
      "6 9\n",
      "7 0\n",
      "7 1\n",
      "7 2\n",
      "7 3\n",
      "7 4\n",
      "7 5\n",
      "7 6\n",
      "7 7\n",
      "7 8\n",
      "7 9\n",
      "8 0\n",
      "8 1\n",
      "8 2\n",
      "8 3\n",
      "8 4\n",
      "8 5\n",
      "8 6\n",
      "8 7\n",
      "8 8\n",
      "8 9\n",
      "9 0\n",
      "9 1\n",
      "9 2\n",
      "9 3\n",
      "9 4\n",
      "9 5\n",
      "9 6\n",
      "9 7\n",
      "9 8\n",
      "9 9\n"
     ]
    }
   ],
   "source": [
    "for i in range(10):\n",
    "    for j in range(10):\n",
    "        print(i,j)"
   ]
  },
  {
   "cell_type": "code",
   "execution_count": 12,
   "metadata": {},
   "outputs": [
    {
     "name": "stdout",
     "output_type": "stream",
     "text": [
      "0 0\n",
      "0 1\n",
      "0 2\n",
      "0 3\n",
      "0 4\n",
      "0 5\n",
      "1 0\n",
      "1 1\n",
      "1 2\n",
      "1 3\n",
      "1 4\n",
      "1 5\n",
      "2 0\n",
      "2 1\n",
      "2 2\n",
      "2 3\n",
      "2 4\n",
      "2 5\n",
      "3 0\n",
      "3 1\n",
      "3 2\n",
      "3 3\n",
      "3 4\n",
      "3 5\n",
      "4 0\n",
      "4 1\n",
      "4 2\n",
      "4 3\n",
      "4 4\n",
      "4 5\n",
      "5 0\n",
      "5 1\n",
      "5 2\n",
      "5 3\n",
      "5 4\n",
      "5 5\n",
      "6 0\n",
      "6 1\n",
      "6 2\n",
      "6 3\n",
      "6 4\n",
      "6 5\n",
      "7 0\n",
      "7 1\n",
      "7 2\n",
      "7 3\n",
      "7 4\n",
      "7 5\n",
      "8 0\n",
      "8 1\n",
      "8 2\n",
      "8 3\n",
      "8 4\n",
      "8 5\n",
      "9 0\n",
      "9 1\n",
      "9 2\n",
      "9 3\n",
      "9 4\n",
      "9 5\n"
     ]
    }
   ],
   "source": [
    "for i in range(10):\n",
    "    for j in range(10):\n",
    "        print(i,j)\n",
    "        if j==5:\n",
    "            break #continue"
   ]
  },
  {
   "cell_type": "markdown",
   "metadata": {},
   "source": [
    "## 注意\n",
    "![](../Photo/56.png)\n",
    "![](../Photo/57.png)"
   ]
  },
  {
   "cell_type": "markdown",
   "metadata": {},
   "source": [
    "# Homework\n",
    "- 1 \n",
    "![](../Photo/58.png)"
   ]
  },
  {
   "cell_type": "code",
   "execution_count": null,
   "metadata": {},
   "outputs": [],
   "source": [
    "integer_sum = 0\n",
    "positive_numbers = 0\n",
    "minus_numbers = 0\n",
    "temp = 1\n",
    "while temp == 1:\n",
    "    integer = int(input())\n",
    "    if integer > 0 :\n",
    "        positive_numbers += 1\n",
    "    elif integer < 0:\n",
    "        minus_numbers += 1\n",
    "    elif integer == 0:\n",
    "        break\n",
    "    integer_sum += integer\n",
    "print('正数个数：',positive_numbers)\n",
    "print('负数个数',minus_numbers)\n",
    "print('总和',integer_sum)\n",
    "print('平均数',float(integer_sum / (positive_numbers + minus_numbers)))"
   ]
  },
  {
   "cell_type": "markdown",
   "metadata": {},
   "source": [
    "- 2\n",
    "![](../Photo/59.png)"
   ]
  },
  {
   "cell_type": "code",
   "execution_count": 45,
   "metadata": {},
   "outputs": [
    {
     "name": "stdout",
     "output_type": "stream",
     "text": [
      "21525.0\n",
      "22601.25\n",
      "23731.3125\n",
      "24917.878125\n",
      "16288.946267774414\n"
     ]
    }
   ],
   "source": [
    "i= 1\n",
    "b = 10000\n",
    "sum_ = 0\n",
    "for i in range(10):\n",
    "    sum_ = (b * 0.05) + b\n",
    "    b = sum_\n",
    "    i += 1\n",
    "    if i < 5:\n",
    "        sum_ += (b * 0.05) + b\n",
    "        print(sum_)\n",
    "print(sum_)"
   ]
  },
  {
   "cell_type": "markdown",
   "metadata": {},
   "source": [
    "- 3\n",
    "![](../Photo/58.png)"
   ]
  },
  {
   "cell_type": "code",
   "execution_count": 32,
   "metadata": {},
   "outputs": [
    {
     "name": "stdout",
     "output_type": "stream",
     "text": [
      "8\n",
      "-2\n",
      "2\n",
      "0\n",
      "正数个数： 2\n",
      "负数个数 1\n",
      "总和 8\n",
      "平均数 2.6666666666666665\n"
     ]
    }
   ],
   "source": [
    "integer_sum = 0\n",
    "positive_numbers = 0\n",
    "minus_numbers = 0\n",
    "temp = 1\n",
    "while temp == 1:\n",
    "    integer = int(input())\n",
    "    if integer > 0 :\n",
    "        positive_numbers += 1\n",
    "    elif integer < 0:\n",
    "        minus_numbers += 1\n",
    "    elif integer == 0:\n",
    "        break\n",
    "    integer_sum += integer\n",
    "print('正数个数：',positive_numbers)\n",
    "print('负数个数',minus_numbers)\n",
    "print('总和',integer_sum)\n",
    "print('平均数',float(integer_sum / (positive_numbers + minus_numbers)))"
   ]
  },
  {
   "cell_type": "markdown",
   "metadata": {},
   "source": [
    "- 4\n",
    "![](../Photo/60.png)"
   ]
  },
  {
   "cell_type": "code",
   "execution_count": 20,
   "metadata": {},
   "outputs": [
    {
     "name": "stdout",
     "output_type": "stream",
     "text": [
      "120 150 180 210 240 270 300 330 360 390 420 450 480 510 540 570 600 630 660 690 720 750 780 810 840 870 900 930 960 990 "
     ]
    }
   ],
   "source": [
    "for i in range(100,1000):\n",
    "    if i % 5 == 0 and i % 6 == 0:\n",
    "          print(i,end = ' ')"
   ]
  },
  {
   "cell_type": "markdown",
   "metadata": {},
   "source": [
    "- 5\n",
    "![](../Photo/61.png)"
   ]
  },
  {
   "cell_type": "code",
   "execution_count": 5,
   "metadata": {},
   "outputs": [
    {
     "name": "stdout",
     "output_type": "stream",
     "text": [
      "101\n"
     ]
    }
   ],
   "source": [
    "n = 100\n",
    "while n * n < 12000:\n",
    "    n = n + 1\n",
    "    print(n)"
   ]
  },
  {
   "cell_type": "markdown",
   "metadata": {},
   "source": [
    "- 6\n",
    "![](../Photo/62.png)"
   ]
  },
  {
   "cell_type": "code",
   "execution_count": null,
   "metadata": {},
   "outputs": [],
   "source": []
  },
  {
   "cell_type": "markdown",
   "metadata": {},
   "source": [
    "- 7\n",
    "![](../Photo/63.png)"
   ]
  },
  {
   "cell_type": "code",
   "execution_count": 11,
   "metadata": {},
   "outputs": [
    {
     "name": "stdout",
     "output_type": "stream",
     "text": [
      "11.397003949278504\n"
     ]
    }
   ],
   "source": [
    "i = 1\n",
    "a = i\n",
    "while i<50000:\n",
    "    i += 1\n",
    "    a += 1/i\n",
    "print(a)"
   ]
  },
  {
   "cell_type": "markdown",
   "metadata": {},
   "source": [
    "- 8\n",
    "![](../Photo/64.png)"
   ]
  },
  {
   "cell_type": "code",
   "execution_count": 30,
   "metadata": {},
   "outputs": [
    {
     "name": "stdout",
     "output_type": "stream",
     "text": [
      "46.10341520985016\n"
     ]
    }
   ],
   "source": [
    "a = 3\n",
    "i = 1\n",
    "while i < 97:\n",
    "    d += i/a\n",
    "    a += 2\n",
    "    i += 2\n",
    "print(d)"
   ]
  },
  {
   "cell_type": "markdown",
   "metadata": {},
   "source": [
    "- 9\n",
    "![](../Photo/65.png)"
   ]
  },
  {
   "cell_type": "code",
   "execution_count": 14,
   "metadata": {},
   "outputs": [
    {
     "name": "stdout",
     "output_type": "stream",
     "text": [
      "pi = 3.141392653591791\n"
     ]
    }
   ],
   "source": [
    "pi = 0\n",
    "i = 1 #控制分母\n",
    "j = 1 #控制符号\n",
    "while True:\n",
    "    temp = 1 / i * j\n",
    "    if abs(temp) < pow(10,-4):\n",
    "        break\n",
    "    pi += temp\n",
    "    i += 2\n",
    "    j *= -1\n",
    "pi *= 4\n",
    "print('pi =',pi)"
   ]
  },
  {
   "cell_type": "markdown",
   "metadata": {},
   "source": [
    "- 10 \n",
    "![](../Photo/66.png)"
   ]
  },
  {
   "cell_type": "code",
   "execution_count": 12,
   "metadata": {},
   "outputs": [
    {
     "name": "stdout",
     "output_type": "stream",
     "text": [
      "[1, 2, 3]\n",
      "6\n",
      "[1, 2, 4, 7, 14]\n",
      "28\n",
      "[1, 2, 4, 8, 16, 31, 62, 124, 248]\n",
      "496\n",
      "[1, 2, 4, 8, 16, 32, 64, 127, 254, 508, 1016, 2032, 4064]\n",
      "8128\n"
     ]
    }
   ],
   "source": [
    "l = [ ]\n",
    "for n in range (1,10000):\n",
    "    for a in range (1,n):\n",
    "        if n%a ==0:\n",
    "            l.append(a)\n",
    "    if sum(l)==n:\n",
    "        print (l)\n",
    "        print (n)\n",
    "    l = []"
   ]
  },
  {
   "cell_type": "markdown",
   "metadata": {},
   "source": [
    "- 11\n",
    "![](../Photo/67.png)"
   ]
  },
  {
   "cell_type": "code",
   "execution_count": 13,
   "metadata": {},
   "outputs": [
    {
     "name": "stdout",
     "output_type": "stream",
     "text": [
      "1 1\n",
      "1 2\n",
      "1 3\n",
      "1 4\n",
      "1 5\n",
      "1 6\n",
      "2 1\n",
      "2 2\n",
      "2 3\n",
      "2 4\n",
      "2 5\n",
      "2 6\n",
      "3 1\n",
      "3 2\n",
      "3 3\n",
      "3 4\n",
      "3 5\n",
      "3 6\n",
      "4 1\n",
      "4 2\n",
      "4 3\n",
      "4 4\n",
      "4 5\n",
      "4 6\n",
      "5 1\n",
      "5 2\n",
      "5 3\n",
      "5 4\n",
      "5 5\n",
      "5 6\n",
      "6 1\n",
      "6 2\n",
      "6 3\n",
      "6 4\n",
      "6 5\n",
      "6 6\n",
      "组合总个数： 36\n"
     ]
    }
   ],
   "source": [
    "a = 0\n",
    "for i in range (1,7):\n",
    "    for j in range(1,7):\n",
    "        a += 1\n",
    "        print (i,j)\n",
    "print('组合总个数：',a)"
   ]
  },
  {
   "cell_type": "markdown",
   "metadata": {},
   "source": [
    "- 12\n",
    "![](../Photo/68.png)"
   ]
  },
  {
   "cell_type": "code",
   "execution_count": null,
   "metadata": {},
   "outputs": [],
   "source": []
  }
 ],
 "metadata": {
  "kernelspec": {
   "display_name": "Python 3",
   "language": "python",
   "name": "python3"
  },
  "language_info": {
   "codemirror_mode": {
    "name": "ipython",
    "version": 3
   },
   "file_extension": ".py",
   "mimetype": "text/x-python",
   "name": "python",
   "nbconvert_exporter": "python",
   "pygments_lexer": "ipython3",
   "version": "3.7.3"
  }
 },
 "nbformat": 4,
 "nbformat_minor": 2
}
