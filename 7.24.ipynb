{
 "cells": [
  {
   "cell_type": "markdown",
   "metadata": {},
   "source": [
    "# 更多字符串和特殊方法\n",
    "- 前面我们已经学了类，在Python中还有一些特殊的方法起着非常重要的作用，这里会介绍一些特殊的方法和运算符的重载，以及使用特殊方法设计类"
   ]
  },
  {
   "cell_type": "markdown",
   "metadata": {},
   "source": [
    "## str 类\n",
    "- 一个str对象是不可变的，也就是说，一旦创建了这个字符串，那么它的内容在认为不改变的情况下是不会变的\n",
    "- s1 = str()\n",
    "- s2 = str('welcome to Python')"
   ]
  },
  {
   "cell_type": "code",
   "execution_count": 1,
   "metadata": {},
   "outputs": [
    {
     "data": {
      "text/plain": [
       "'123456'"
      ]
     },
     "execution_count": 1,
     "metadata": {},
     "output_type": "execute_result"
    }
   ],
   "source": [
    "b = str(123456)\n",
    "b"
   ]
  },
  {
   "cell_type": "markdown",
   "metadata": {},
   "source": [
    "## 创建两个对象，分别观察两者id\n",
    "- id为Python内存地址"
   ]
  },
  {
   "cell_type": "code",
   "execution_count": 5,
   "metadata": {},
   "outputs": [
    {
     "name": "stdout",
     "output_type": "stream",
     "text": [
      "2854170961992\n",
      "2854170961992\n"
     ]
    }
   ],
   "source": [
    "a = 'a'\n",
    "b = 'a'\n",
    "print(id(a))\n",
    "print(id(b))"
   ]
  },
  {
   "cell_type": "code",
   "execution_count": 11,
   "metadata": {},
   "outputs": [
    {
     "name": "stdout",
     "output_type": "stream",
     "text": [
      "140728001336128\n",
      "140728001336160\n"
     ]
    }
   ],
   "source": [
    "a =1\n",
    "b =2\n",
    "print(id(a))\n",
    "print(id(b))"
   ]
  },
  {
   "cell_type": "markdown",
   "metadata": {},
   "source": [
    "## 处理字符串的函数\n",
    "- len\n",
    "- max\n",
    "- min\n",
    "- 字符串一切是按照ASCII码值进行比较"
   ]
  },
  {
   "cell_type": "code",
   "execution_count": 12,
   "metadata": {},
   "outputs": [
    {
     "data": {
      "text/plain": [
       "4"
      ]
     },
     "execution_count": 12,
     "metadata": {},
     "output_type": "execute_result"
    }
   ],
   "source": [
    "len('abc ')"
   ]
  },
  {
   "cell_type": "code",
   "execution_count": 13,
   "metadata": {},
   "outputs": [
    {
     "data": {
      "text/plain": [
       "'a'"
      ]
     },
     "execution_count": 13,
     "metadata": {},
     "output_type": "execute_result"
    }
   ],
   "source": [
    "a = 'abc'\n",
    "a[0]"
   ]
  },
  {
   "cell_type": "code",
   "execution_count": 18,
   "metadata": {},
   "outputs": [
    {
     "name": "stdout",
     "output_type": "stream",
     "text": [
      "a\n",
      "b\n",
      "c\n"
     ]
    }
   ],
   "source": [
    "i=0\n",
    "a = 'abc'\n",
    "while i<len(a):\n",
    "    print(a[i])\n",
    "    i +=1"
   ]
  },
  {
   "cell_type": "markdown",
   "metadata": {},
   "source": [
    "## 下角标运算符 []\n",
    "- 一个字符串是一个字符序列，可以通过索引进行访问\n",
    "- 观察字符串是否是一个可迭代序列  \\__iter__"
   ]
  },
  {
   "cell_type": "markdown",
   "metadata": {},
   "source": [
    "## 切片 [start: end:步长]\n",
    "- start 默认值为0\n",
    "- end 默认值为-1"
   ]
  },
  {
   "cell_type": "code",
   "execution_count": 20,
   "metadata": {},
   "outputs": [
    {
     "data": {
      "text/plain": [
       "'abjsdjdsdfks'"
      ]
     },
     "execution_count": 20,
     "metadata": {},
     "output_type": "execute_result"
    }
   ],
   "source": [
    "a = 'abjsdjdsdfks'\n",
    "a[2:6]\n",
    "a[:]\n",
    "a=[-1] #"
   ]
  },
  {
   "cell_type": "code",
   "execution_count": 26,
   "metadata": {},
   "outputs": [
    {
     "name": "stdout",
     "output_type": "stream",
     "text": [
      "b\n",
      "d\n",
      "f\n",
      "h\n"
     ]
    }
   ],
   "source": [
    "b = 'abcdefgh'\n",
    "i = 0\n",
    "while i<len(b):\n",
    "    if i%2 !=0:\n",
    "        print(b[i])\n",
    "    i +=1"
   ]
  },
  {
   "cell_type": "code",
   "execution_count": 23,
   "metadata": {},
   "outputs": [
    {
     "data": {
      "text/plain": [
       "'bdfh'"
      ]
     },
     "execution_count": 23,
     "metadata": {},
     "output_type": "execute_result"
    }
   ],
   "source": [
    "b = 'abcdefgh'\n",
    "b[1::2]"
   ]
  },
  {
   "cell_type": "markdown",
   "metadata": {},
   "source": [
    "## 链接运算符 + 和复制运算符 *\n",
    "- \\+ 链接多个字符串，同时''.join()也是\n",
    "- \\* 复制多个字符串"
   ]
  },
  {
   "cell_type": "code",
   "execution_count": 27,
   "metadata": {},
   "outputs": [
    {
     "data": {
      "text/plain": [
       "'ss'"
      ]
     },
     "execution_count": 27,
     "metadata": {},
     "output_type": "execute_result"
    }
   ],
   "source": [
    "'s'* 2"
   ]
  },
  {
   "cell_type": "code",
   "execution_count": 43,
   "metadata": {},
   "outputs": [
    {
     "name": "stdout",
     "output_type": "stream",
     "text": [
      "*****\n",
      "*   *\n",
      "*   *\n",
      "*****\n"
     ]
    }
   ],
   "source": [
    "for i in range(1,5):\n",
    "    if i == 1:\n",
    "        print('*'*5)\n",
    "    elif i == 2 or i == 3:\n",
    "         print('*   *')\n",
    "    else:\n",
    "         print('*****')"
   ]
  },
  {
   "cell_type": "code",
   "execution_count": 44,
   "metadata": {},
   "outputs": [
    {
     "name": "stdout",
     "output_type": "stream",
     "text": [
      "*****\n",
      "*   *\n",
      "*   *\n",
      "*****\n"
     ]
    }
   ],
   "source": [
    " for i in range(0,4):\n",
    "    if i == 0 or i == 3:\n",
    "        print('*'*5)\n",
    "    else:\n",
    "        print('*'+' '*3+'*')  "
   ]
  },
  {
   "cell_type": "markdown",
   "metadata": {},
   "source": [
    "## in 和 not in 运算符\n",
    "- in :判断某个字符是否在字符串内 \n",
    "- not in ：判断某个字符是否不在字符串内\n",
    "- 返回的是布尔值"
   ]
  },
  {
   "cell_type": "code",
   "execution_count": 45,
   "metadata": {},
   "outputs": [
    {
     "data": {
      "text/plain": [
       "True"
      ]
     },
     "execution_count": 45,
     "metadata": {},
     "output_type": "execute_result"
    }
   ],
   "source": [
    "'a' in 'aaa'"
   ]
  },
  {
   "cell_type": "code",
   "execution_count": 46,
   "metadata": {},
   "outputs": [
    {
     "data": {
      "text/plain": [
       "True"
      ]
     },
     "execution_count": 46,
     "metadata": {},
     "output_type": "execute_result"
    }
   ],
   "source": [
    "a = '水晶城就是'\n",
    "b = '水'\n",
    "b in a"
   ]
  },
  {
   "cell_type": "code",
   "execution_count": 56,
   "metadata": {},
   "outputs": [],
   "source": [
    "def xxx(a,b):\n",
    "    for i in a:\n",
    "        if i == b:\n",
    "            return True\n",
    "        return False"
   ]
  },
  {
   "cell_type": "code",
   "execution_count": 57,
   "metadata": {},
   "outputs": [
    {
     "data": {
      "text/plain": [
       "True"
      ]
     },
     "execution_count": 57,
     "metadata": {},
     "output_type": "execute_result"
    }
   ],
   "source": [
    "xxx(a,b)"
   ]
  },
  {
   "cell_type": "markdown",
   "metadata": {},
   "source": [
    "## 比较字符串\n",
    "-  ==, !=, >=, <=, >, <\n",
    "- 依照ASCII码值进行比较"
   ]
  },
  {
   "cell_type": "code",
   "execution_count": 81,
   "metadata": {},
   "outputs": [
    {
     "data": {
      "text/plain": [
       "False"
      ]
     },
     "execution_count": 81,
     "metadata": {},
     "output_type": "execute_result"
    }
   ],
   "source": [
    "'a' == 'b'"
   ]
  },
  {
   "cell_type": "code",
   "execution_count": null,
   "metadata": {},
   "outputs": [],
   "source": [
    "path = 'C:/Users/波/Desktop/mail.txt'\n",
    "with open(path) as f:\n",
    "    for i in range(2000):\n",
    "        lines = f.readline()\n",
    "        a = lines[0]\n",
    "        if a == '1':\n",
    "            print(lines)"
   ]
  },
  {
   "cell_type": "markdown",
   "metadata": {},
   "source": [
    "## 测试字符串\n",
    "![](../Photo/99.png)\n",
    "- 注意：\n",
    "> - isalnum() 中是不能包含空格，否则会返回False"
   ]
  },
  {
   "cell_type": "code",
   "execution_count": 2,
   "metadata": {},
   "outputs": [
    {
     "data": {
      "text/plain": [
       "True"
      ]
     },
     "execution_count": 2,
     "metadata": {},
     "output_type": "execute_result"
    }
   ],
   "source": [
    "a = 'abcd'\n",
    "a.isalnum()"
   ]
  },
  {
   "cell_type": "code",
   "execution_count": 3,
   "metadata": {},
   "outputs": [
    {
     "data": {
      "text/plain": [
       "False"
      ]
     },
     "execution_count": 3,
     "metadata": {},
     "output_type": "execute_result"
    }
   ],
   "source": [
    "b = 'abs '\n",
    "b.isalpha()"
   ]
  },
  {
   "cell_type": "code",
   "execution_count": 7,
   "metadata": {},
   "outputs": [
    {
     "data": {
      "text/plain": [
       "False"
      ]
     },
     "execution_count": 7,
     "metadata": {},
     "output_type": "execute_result"
    }
   ],
   "source": [
    "b = 'abs'\n",
    "b.isdigit()"
   ]
  },
  {
   "cell_type": "code",
   "execution_count": 8,
   "metadata": {},
   "outputs": [
    {
     "data": {
      "text/plain": [
       "True"
      ]
     },
     "execution_count": 8,
     "metadata": {},
     "output_type": "execute_result"
    }
   ],
   "source": [
    "b = 'avbf'\n",
    "b.islower()"
   ]
  },
  {
   "cell_type": "code",
   "execution_count": 29,
   "metadata": {},
   "outputs": [],
   "source": [
    "def Check(a):\n",
    "    \"\"\"   \n",
    "    Check Password\n",
    "    Parameters:\n",
    "    -----------\n",
    "        password:Need check Password.\n",
    "    Returns:\n",
    "    ------\n",
    "        None.\n",
    "    note:\n",
    "    ----\n",
    "       1.Must use for loop.\n",
    "       2.必须写上注释. \n",
    "    \"\"\"\n",
    "    N = len(a)\n",
    "    N1,N2,N3 = 0,0,0\n",
    "    for i in a:\n",
    "        if i.isupper():\n",
    "            N1 +=1\n",
    "        elif i.islower():\n",
    "            N2 +=1\n",
    "        elif i.isdigit():\n",
    "            N3+=1\n",
    "    if N1 ==0:\n",
    "        print('没有大写')\n",
    "    if N2 ==0:\n",
    "        print('没有小写')\n",
    "    if N3 ==0:\n",
    "        print('没有数字')\n",
    "    if N <=8:\n",
    "        print('超过8位')\n",
    "    print(N1,N2,N3)"
   ]
  },
  {
   "cell_type": "code",
   "execution_count": 26,
   "metadata": {},
   "outputs": [
    {
     "name": "stdout",
     "output_type": "stream",
     "text": [
      "没有数字\n",
      "超过8位\n",
      "2 2 0\n"
     ]
    }
   ],
   "source": [
    "a='jhGG'\n",
    "Check(a)"
   ]
  },
  {
   "cell_type": "markdown",
   "metadata": {},
   "source": [
    "## 搜索子串\n",
    "![](../Photo/100.png)"
   ]
  },
  {
   "cell_type": "code",
   "execution_count": 30,
   "metadata": {},
   "outputs": [
    {
     "data": {
      "text/plain": [
       "True"
      ]
     },
     "execution_count": 30,
     "metadata": {},
     "output_type": "execute_result"
    }
   ],
   "source": [
    "a='帅'\n",
    "b='帅帅'\n",
    "b.startswith(a)"
   ]
  },
  {
   "cell_type": "code",
   "execution_count": 31,
   "metadata": {},
   "outputs": [
    {
     "data": {
      "text/plain": [
       "2"
      ]
     },
     "execution_count": 31,
     "metadata": {},
     "output_type": "execute_result"
    }
   ],
   "source": [
    "b.count('帅')"
   ]
  },
  {
   "cell_type": "code",
   "execution_count": 32,
   "metadata": {},
   "outputs": [
    {
     "data": {
      "text/plain": [
       "1"
      ]
     },
     "execution_count": 32,
     "metadata": {},
     "output_type": "execute_result"
    }
   ],
   "source": [
    "c = 'abcds'\n",
    "c.find('bc')  #-1就是没有  ab 输出 0"
   ]
  },
  {
   "cell_type": "code",
   "execution_count": 33,
   "metadata": {},
   "outputs": [
    {
     "data": {
      "text/plain": [
       "4"
      ]
     },
     "execution_count": 33,
     "metadata": {},
     "output_type": "execute_result"
    }
   ],
   "source": [
    "c = 'abcdbs'\n",
    "c.rfind('b')  #倒着找，还是正常的位置"
   ]
  },
  {
   "cell_type": "code",
   "execution_count": 34,
   "metadata": {},
   "outputs": [],
   "source": [
    "import requests\n"
   ]
  },
  {
   "cell_type": "code",
   "execution_count": 54,
   "metadata": {},
   "outputs": [
    {
     "name": "stdout",
     "output_type": "stream",
     "text": [
      "<title>海贼王图片-海贼王图片大全-海贼王专题-4399动漫网</title>\n",
      "<meta name=\"keywords\" content=\"海贼王图片,海贼王壁纸,海贼王图片大全\" />\n",
      "<meta name=\"description\" content=\"4399海贼王专题为您提供海贼王图片大全，拥有路飞、索隆、山治、娜美、罗宾、女帝等海量高清海贼王壁纸、同人图。更多人气海贼王角色图片等您一睹为快。\" />\n",
      "<div class=\"head\"> <a href=\"javascript:void(0);\" title=\"4399海贼王动漫专区\" onclick=\"addfav(special_title,special_url);return false;\" class=\"logo\"></a> </div>\n",
      "<li ><a target=\"_self\" href=\"/haizeiwang/\" class=\"a1\">海贼王</a></li>\n",
      "<li><a href=\"http://www.4399dmw.com/haizeiwang/manhua/274923.html\">海贼王826话 山治家族姐弟登场</a></li>\n",
      "<li><a href=\"http://www.4399dmw.com/haizeiwang/shipin/271774.html\">海贼王燃烧之血超震撼游戏宣传片</a></li>\n",
      "<li><a href=\"http://www.4399dmw.com/haizeiwang/tupian/270215.html\">海贼王第80卷SBS新鲜内容大放送！</a></li>\n",
      "<li><a href=\"http://www.4399dmw.com/haizeiwang/donghua/270363.html\">海贼王730集  蔓雪莉的奇迹之泪</a></li>\n",
      "<li><a href=\"http://www.4399dmw.com/haizeiwang/juqing/262935.html\">50条关于海贼王的小秘密 你都知道哪一些</a></li>\n",
      "<li><a href=\"http://www.4399dmw.com/haizeiwang/tupian/260698.html\">海贼王2016年动画版年历</a></li>\n",
      "<li><a href=\"http://www.4399dmw.com/haizeiwang/tupian/260371.html\">海贼王2016年官方月历欣赏</a></li>\n",
      "<li><a href=\"http://weibo.com/xiaduophoto\">关注夏多老师微博  实时交流海贼王之道！</a></li>\n",
      "<li>4399海贼王官方群 群号：183253772</li>\n",
      "<li><a href=\"http://www.4399dmw.com/tuku/269004.html\">海贼王burning blood参战角色图赏</a></li>\n",
      "<li>4399海贼王官方超级群 QQ群号：76975076</li>\n",
      "<div class=\"dm_crumbs g_crumbs\"> 当前位置：<a href='/' target='_self'>4399动漫网</a><span class='s_g5'>&gt;</span><a href='/haizeiwang/' target='_self'>海贼王</a><span class='s_g5'>&gt;</span><a href='/haizeiwang/tupian/' target='_self'>海贼王图片</a> </div>\n",
      "<li> <a title=\"海贼王80卷单行本SBS\" href=\"/haizeiwang/tupian/270215.html\" class=\"img\"> <img src=\"http://dmimg.5054399.com/allimg/160217/6_160217142248_2.jpg\" alt=\"海贼王80卷单行本SBS\" /> </a> <a href=\"/haizeiwang/tupian/270215.html\" class=\"tit\">海贼王80卷单行本SBS</a> </li>\n",
      "<li> <a title=\"海贼王Burning Blood游戏参战角色\" href=\"http://www.4399dmw.com/tuku/269004.html\" class=\"img\"> <img src=\"http://dmimg.5054399.com/allimg/160126/6_160126100905_2.jpg\" alt=\"海贼王Burning Blood游戏参战角色\" /> </a> <a href=\"http://www.4399dmw.com/tuku/269004.html\" class=\"tit\">海贼王Burning Blood游戏参战角色</a> </li>\n",
      "<li> <a title=\"海贼王万圣节ZOMBIE主题磁章\" href=\"/haizeiwang/tupian/261738.html\" class=\"img\"> <img src=\"http://dmimg.5054399.com/allimg/151028/6_151028142939_1.jpg\" alt=\"海贼王万圣节ZOMBIE主题磁章\" /> </a> <a href=\"/haizeiwang/tupian/261738.html\" class=\"tit\">海贼王万圣节ZOMBIE主题磁章</a> </li>\n",
      "<li> <a title=\"海贼王79卷SBS及角色生日大全\" href=\"/haizeiwang/tupian/261691.html\" class=\"img\"> <img src=\"http://dmimg.5054399.com/allimg/151027/6_151027140205_1.jpg\" alt=\"海贼王79卷SBS及角色生日大全\" /> </a> <a href=\"/haizeiwang/tupian/261691.html\" class=\"tit\">海贼王79卷SBS及角色生日大全</a> </li>\n",
      "<li> <a title=\"海贼王2016年动画版年历\" href=\"/haizeiwang/tupian/260698.html\" class=\"img\"> <img src=\"http://dmimg.5054399.com/allimg/151006/6_151006204107_1.jpg\" alt=\"海贼王2016年动画版年历\" /> </a> <a href=\"/haizeiwang/tupian/260698.html\" class=\"tit\">海贼王2016年动画版年历</a> </li>\n",
      "<li> <a title=\"海贼王2016年官方月历\" href=\"/haizeiwang/tupian/260371.html\" class=\"img\"> <img src=\"http://dmimg.5054399.com/allimg/150927/6_150927153510_1.jpg\" alt=\"海贼王2016年官方月历\" /> </a> <a href=\"/haizeiwang/tupian/260371.html\" class=\"tit\">海贼王2016年官方月历</a> </li>\n",
      "<li> <a title=\"海贼王柯拉松和罗同人图\" href=\"/haizeiwang/tupian/258635.html\" class=\"img\"> <img src=\"http://dmimg.5054399.com/allimg/150821/6_150821105253_2.jpg\" alt=\"海贼王柯拉松和罗同人图\" /> </a> <a href=\"/haizeiwang/tupian/258635.html\" class=\"tit\">海贼王柯拉松和罗同人图</a> </li>\n",
      "<li> <a title=\"海贼王78卷SBS\" href=\"/haizeiwang/tupian/257280.html\" class=\"img\"> <img src=\"http://dmimg.5054399.com/allimg/150727/6_150727114156_1.jpg\" alt=\"海贼王78卷SBS\" /> </a> <a href=\"/haizeiwang/tupian/257280.html\" class=\"tit\">海贼王78卷SBS</a> </li>\n",
      "<li> <a title=\"海贼王77卷SBS\" href=\"/haizeiwang/tupian/250388.html\" class=\"img\"> <img src=\"http://dmimg.5054399.com/allimg/150416/6_150416172603_1.jpg\" alt=\"海贼王77卷SBS\" /> </a> <a href=\"/haizeiwang/tupian/250388.html\" class=\"tit\">海贼王77卷SBS</a> </li>\n",
      "<li> <a title=\"海贼王柯拉松同人图\" href=\"/haizeiwang/tupian/250345.html\" class=\"img\"> <img src=\"http://dmimg.5054399.com/allimg/150415/6_150415170647_1.jpg\" alt=\"海贼王柯拉松同人图\" /> </a> <a href=\"/haizeiwang/tupian/250345.html\" class=\"tit\">海贼王柯拉松同人图</a> </li>\n",
      "<li> <a title=\"轻松熊版海贼王萌头像\" href=\"/haizeiwang/tupian/250281.html\" class=\"img\"> <img src=\"http://dmimg.5054399.com/allimg/150414/6_150414115634_1.jpg\" alt=\"轻松熊版海贼王萌头像\" /> </a> <a href=\"/haizeiwang/tupian/250281.html\" class=\"tit\">轻松熊版海贼王萌头像</a> </li>\n",
      "<li> <a title=\"海贼王寻宝之旅官方人物图鉴\" href=\"/haizeiwang/tupian/249779.html\" class=\"img\"> <img src=\"http://dmimg.5054399.com/allimg/150407/6_150407142509_2.jpg\" alt=\"海贼王寻宝之旅官方人物图鉴\" /> </a> <a href=\"/haizeiwang/tupian/249779.html\" class=\"tit\">海贼王寻宝之旅官方人物图鉴</a> </li>\n",
      "<li> <a href=\"http://www.4399.com/flash/140922.htm\"> <img name=\"lzimg_1\" lz_src=\"http://dmimg.5054399.com/allimg/xiaduo/122.jpg\" alt=\"妖尾VS海贼王0.7\">妖尾VS海贼王0.7 </a> </li>\n",
      "<li> <a href=\"http://www.4399.com/flash/87159.htm\"> <img name=\"lzimg_1\" lz_src=\"http://dmimg.5054399.com/allimg/xiaduo/123.jpg\" alt=\"海贼王异域冒险3\">海贼王异域冒险3 </a> </li>\n",
      "<li> <a href=\"http://www.4399.com/flash/118829.htm\"> <img name=\"lzimg_1\" lz_src=\"http://dmimg.5054399.com/allimg/xiaduo/126.jpg\" alt=\"海贼王终极对决1.6\">海贼王终极对决1.6 </a> </li>\n",
      "<li> <a href=\"http://www.4399.com/flash/39039.htm\"> <img name=\"lzimg_1\" lz_src=\"http://dmimg.5054399.com/allimg/xiaduo/124.jpg\" alt=\"海贼王叉鱼记\">海贼王叉鱼记 </a> </li>\n",
      "<a class=\"title\" href=\"/haizeiwang/zixunzatan/\"> <i class=\"icon\"></i> 海贼王热门资讯 </a>\n",
      "<h3 class=\"g_side_actitle\"><a href=\"/haizeiwang/zixunzatan/304508.html\">《海贼王》奇葩产物 那些奇奇</a></h3>\n",
      "<div class=\"g_imgtext\"> <a href=\"/haizeiwang/zixunzatan/304508.html\" class=\"img\" title=\"《海贼王》奇葩产物 那些奇奇\"> <img alt=\"《海贼王》奇葩产物 那些奇奇\" src=\"http://dmimg.5054399.com/allimg/170613/42_170613104122_3.jpg\" /> </a>\n",
      "<p class=\"text\">海贼王里的电话虫是一种伟大航道内的通讯工具，虽然是生物，但......</p>\n",
      "<li> <span class=\"time\">[05-31]</span> <a href=\"/haizeiwang/zixunzatan/302016.html\">盘点海贼王漫画中让人匪夷所</a> </li>\n",
      "<li> <span class=\"time\">[05-25]</span> <a href=\"/haizeiwang/zixunzatan/300598.html\">《海贼王》里最适合撩妹的岛</a> </li>\n",
      "<li> <span class=\"time\">[05-24]</span> <a href=\"/haizeiwang/zixunzatan/300368.html\">《海贼王》里十大最丑的角色</a> </li>\n",
      "<li> <span class=\"time\">[05-15]</span> <a href=\"/haizeiwang/zixunzatan/298482.html\">《海贼王》里最会占女生便宜</a> </li>\n",
      "<li> <span class=\"time\">[04-28]</span> <a href=\"/haizeiwang/zixunzatan/296224.html\">海贼王角色两年前后对比 变化</a> </li>\n",
      "<div class=\"g_dmbtns\"> <a href=\"/haizeiwang/manhua/\" class=\"mhbtn\"> <i></i> <b>海贼王漫画</b> </a> <a href=\"/haizeiwang/donghua/\" class=\"dhbtn\"> <i></i> <b>海贼王动画</b> </a> </div>\n",
      "<a href=\"/haizeiwang/tupian/\" class=\"title\"> <i class=\"icon\"></i> 海贼王图片 </a>\n",
      "<li> <a href=\"/haizeiwang/tupian/270215.html\"> <img src=\"http://dmimg.5054399.com/allimg/160217/6_160217142248_3.jpg\" alt=\"海贼王80卷单行本SBS\" />海贼王80卷单行本SBS</a> </li>\n",
      "<li> <a href=\"http://www.4399dmw.com/tuku/269004.html\"> <img src=\"http://dmimg.5054399.com/allimg/160126/6_160126100905_3.jpg\" alt=\"海贼王Burning Blood游戏参战角色\" />海贼王Burning Blood游戏参战角色</a> </li>\n",
      "<li> <a href=\"/haizeiwang/tupian/261738.html\"> <img src=\"http://dmimg.5054399.com/allimg/151028/6_151028142939_2.jpg\" alt=\"海贼王万圣节ZOMBIE主题磁章\" />海贼王万圣节ZOMBIE主题磁章</a> </li>\n",
      "<a class=\"title\" href=\"/haizeiwang/juqing/\"> <i class=\"icon\"></i> 海贼王分析 </a>\n",
      "<li> <span class=\"time\">[03-09]</span> <a href=\"http://weibo.com/ttarticle/p/show?id=2309403951190911130828\">夏多的海贼王分析 和大家再见</a> </li>\n",
      "<li> <span class=\"time\">[03-01]</span> <a href=\"/haizeiwang/juqing/270577.html\">海贼王817分析</a> </li>\n",
      "<li> <span class=\"time\">[02-17]</span> <a href=\"/haizeiwang/juqing/270230.html\">新人浅谈我对海贼王和黑胡子</a> </li>\n",
      "<li> <span class=\"time\">[02-16]</span> <a href=\"/haizeiwang/juqing/269976.html\">海贼王816分析</a> </li>\n",
      "<li> <span class=\"time\">[02-06]</span> <a href=\"/haizeiwang/juqing/269679.html\">海贼王815分析</a> </li>\n",
      "<li> <span class=\"time\">[01-30]</span> <a href=\"/haizeiwang/juqing/269246.html\">海贼王814分析</a> </li>\n",
      "<a href=\"http://www.4399dmw.com/donghua/\">动画片</a><a href=\"http://www.4399dmw.com/manhua/\">漫画网</a><a href=\"http://www.4399dmw.com/\">动漫网</a><a href=\"http://www.4399dmw.com/huoying/\">火影忍者</a><a href=\"http://www.4399dmw.com/qinshimingyue/\">秦时明月</a><a href=\"http://www.4399dmw.com/dh/kjysbj/\">铠甲勇士捕将</a><a href=\"http://www.4399dmw.com/haizeiwang/\">海贼王</a><a href=\"http://www.4399dmw.com/yaojingdeweiba/\">妖精的尾巴</a><a href=\"http://www.4399dmw.com/orz/23/\">搞笑动画推荐</a><a href=\"http://www.4399dmw.com/atm/\">奥特曼专区</a><a href=\"http://www.4399dmw.com/news/\">动漫速递</a><a href=\"http://www.4399dmw.com/dh/bbmd/\">百变马丁</a><a href=\"http://www.4399dmw.com/zixun/381175.html\">19年1月新番</a><a href=\"http://www.4399dmw.com/orz/20/\">动漫小主题汇总</a><a href=\"http://www.4399dmw.com/xcmmovie3/\">熊出没之熊心归来大电影</a><a href=\"http://www.4399dmw.com/dh/dlzs3/\">斗龙战士3龙印之战</a><a href=\"http://www.4399dmw.com/dh/seerdiliuji/\">赛尔号第六季</a><a href=\"http://www.4399dmw.com/qinshimingyue/jltx/\">秦时明月之君临天下</a><a href=\"http://www.4399dmw.com/dh/drlft/\">熊出没之冬日乐翻天</a><a href=\"http://www.4399dmw.com/dh/qjleyuan/\">奇积乐园</a><a href=\"http://www.4399dmw.com/dh/akmfsn/\">艾可魔法少女</a>          </dd>\n",
      "    var typename = '海贼王';\n",
      "    var special_title = '海贼王专题-海贼王动漫中文网-4399动漫网';\n"
     ]
    }
   ],
   "source": [
    "url = 'http://www.4399dmw.com/haizeiwang/tupian/'\n",
    "HTML = requests.get(url).text\n",
    "LIST=HTML.split('\\n')\n",
    "for i in LIST:\n",
    "    #if \"海贼王\" in i:\n",
    "     #   print(i)\n",
    "    if i.find(\"海贼王\") != -1:\n",
    "        print(i)"
   ]
  },
  {
   "cell_type": "code",
   "execution_count": 59,
   "metadata": {},
   "outputs": [
    {
     "name": "stdout",
     "output_type": "stream",
     "text": [
      "http://dmimg.5054399.com/allimg/160217/6_160217142248_2.jpg\n",
      "http://dmimg.5054399.com/allimg/160127/6_160127110842_1.jpg\n",
      "http://dmimg.5054399.com/allimg/160126/6_160126100905_2.jpg\n",
      "http://dmimg.5054399.com/allimg/151028/6_151028142939_1.jpg\n",
      "http://dmimg.5054399.com/allimg/151027/6_151027140205_1.jpg\n",
      "http://dmimg.5054399.com/allimg/151006/6_151006204107_1.jpg\n",
      "http://dmimg.5054399.com/allimg/150927/6_150927153510_1.jpg\n",
      "http://dmimg.5054399.com/allimg/150821/6_150821105253_2.jpg\n",
      "http://dmimg.5054399.com/allimg/150728/6_150728100515_1.jpg\n",
      "http://dmimg.5054399.com/allimg/150727/6_150727114156_1.jpg\n",
      "http://dmimg.5054399.com/allimg/150726/6_150726014844_1.jpg\n",
      "http://dmimg.5054399.com/allimg/150529/6_150529115733_1.jpg\n",
      "http://dmimg.5054399.com/allimg/150505/6_150505112033_1.jpg\n",
      "http://dmimg.5054399.com/allimg/150416/6_150416172603_1.jpg\n",
      "http://dmimg.5054399.com/allimg/150415/6_150415170647_1.jpg\n",
      "http://dmimg.5054399.com/allimg/150414/6_150414115634_1.jpg\n",
      "http://dmimg.5054399.com/allimg/150407/6_150407142509_2.jpg\n",
      "http://dmimg.5054399.com/allimg/150330/6_150330170659_2.jpg\n",
      "http://dmimg.5054399.com/allimg/xiaduo/121.jpg\n",
      "http://dmimg.5054399.com/allimg/xiaduo/122.jpg\n",
      "http://dmimg.5054399.com/allimg/xiaduo/123.jpg\n",
      "http://dmimg.5054399.com/allimg/170415/6_170415112850_1.jpg\n",
      "http://dmimg.5054399.com/allimg/xiaduo/126.jpg\n",
      "http://dmimg.5054399.com/allimg/xiaduo/124.jpg\n",
      "http://dmimg.5054399.com/allimg/170613/42_170613104122_3.jpg\n",
      "http://dmimg.5054399.com/allimg/160217/6_160217142248_3.jpg\n",
      "http://dmimg.5054399.com/allimg/160127/6_160127110842_2.jpg\n",
      "http://dmimg.5054399.com/allimg/160126/6_160126100905_3.jpg\n",
      "http://dmimg.5054399.com/allimg/151028/6_151028142939_2.jpg\n"
     ]
    }
   ],
   "source": [
    "url = 'http://www.4399dmw.com/haizeiwang/tupian/'\n",
    "HTML = requests.get(url).text\n",
    "LIST=HTML.split('\\n')\n",
    "for line in LIST:\n",
    "    if '.jpg' in line:\n",
    "        line2 = line.split('\"')#split切分\n",
    "        #print(lin2)\n",
    "        for linee in line2:\n",
    "            if '.jpg' in linee:\n",
    "                print(linee)"
   ]
  },
  {
   "cell_type": "code",
   "execution_count": 63,
   "metadata": {},
   "outputs": [
    {
     "name": "stdout",
     "output_type": "stream",
     "text": [
      "/images/error_new/logo.jpg\n",
      "/images/error_new/hz.jpg\n",
      "/images/error_new/hy.jpg\n",
      "/images/error_new/ss.jpg\n",
      "/images/error_new/xyy.jpg\n",
      "/images/error_new/dl.jpg\n",
      "http://dmimg.5054399.com/allimg/150330/6_150330161421_2.jpg\n",
      "http://dmimg.5054399.com/allimg/150320/6_150320104402_1.jpg\n",
      "http://dmimg.5054399.com/allimg/150317/6_150317101316_1.jpg\n",
      "http://dmimg.5054399.com/allimg/150331/6_150331095525_1.jpg\n",
      "http://dmimg.5054399.com/allimg/150305/6_150305102040_3.jpg\n",
      "http://dmimg.5054399.com/allimg/150218/6_150218163858_2.jpg\n",
      "http://dmimg.5054399.com/allimg/150209/6_150209151809_1.jpg\n",
      "http://dmimg.5054399.com/allimg/150206/6_150206154705_1.jpg\n",
      "http://dmimg.5054399.com/allimg/150203/32_150203114445_1.jpg\n",
      "http://dmimg.5054399.com/allimg/150130/6_150130160542_1.jpg\n",
      "http://dmimg.5054399.com/allimg/150129/6_150129154845_1.jpg\n",
      "http://dmimg.5054399.com/allimg/150128/6_150128193911_1.jpg\n",
      "http://dmimg.5054399.com/allimg/150128/6_150128165954_1.jpg\n",
      "http://dmimg.5054399.com/allimg/150127/6_150127115234_1.jpg\n",
      "http://dmimg.5054399.com/allimg/140623/6_140623110852_1.jpg\n",
      "http://dmimg.5054399.com/allimg/150121/6_150121135815_1.jpg\n",
      "http://dmimg.5054399.com/allimg/150114/6_150114094256_1.jpg\n",
      "http://dmimg.5054399.com/allimg/141212/6_141212093715_1.jpg\n",
      "http://dmimg.5054399.com/allimg/xiaduo/121.jpg\n",
      "http://dmimg.5054399.com/allimg/xiaduo/122.jpg\n",
      "http://dmimg.5054399.com/allimg/xiaduo/123.jpg\n",
      "http://dmimg.5054399.com/allimg/170415/6_170415112850_1.jpg\n",
      "http://dmimg.5054399.com/allimg/xiaduo/126.jpg\n",
      "http://dmimg.5054399.com/allimg/xiaduo/124.jpg\n",
      "http://dmimg.5054399.com/allimg/170613/42_170613104122_3.jpg\n",
      "http://dmimg.5054399.com/allimg/160217/6_160217142248_3.jpg\n",
      "http://dmimg.5054399.com/allimg/160127/6_160127110842_2.jpg\n",
      "http://dmimg.5054399.com/allimg/160126/6_160126100905_3.jpg\n",
      "http://dmimg.5054399.com/allimg/151028/6_151028142939_2.jpg\n",
      "http://dmimg.5054399.com/allimg/150106/6_150106164117_1.jpg\n",
      "http://dmimg.5054399.com/allimg/141229/6_141229165208_1.jpg\n",
      "http://dmimg.5054399.com/allimg/141224/32_141224095826_1.jpg\n",
      "http://dmimg.5054399.com/allimg/141215/32_141215095206_1.jpg\n",
      "http://dmimg.5054399.com/allimg/141208/32_141208110333_1.jpg\n",
      "http://dmimg.5054399.com/allimg/141204/32_141204103308_1.jpg\n",
      "http://dmimg.5054399.com/allimg/141129/6_141129155944_1.jpg\n",
      "http://dmimg.5054399.com/allimg/141129/6_141129134707_1.jpg\n",
      "http://dmimg.5054399.com/allimg/141129/6_141129112851_1.jpg\n",
      "http://dmimg.5054399.com/allimg/141127/6_141127151311_1.jpg\n",
      "http://dmimg.5054399.com/allimg/141125/6_141125164943_4.jpg\n",
      "http://dmimg.5054399.com/allimg/141125/6_141125114627_1.jpg\n",
      "http://dmimg.5054399.com/allimg/141124/6_141124105636_1.jpg\n",
      "http://dmimg.5054399.com/allimg/141118/6_141118114122_1.jpg\n",
      "http://dmimg.5054399.com/allimg/141115/6_141115144959_1.jpg\n",
      "http://dmimg.5054399.com/allimg/141024/6_141024170916_1.jpg\n",
      "http://dmimg.5054399.com/allimg/141015/6_141015150359_1.jpg\n",
      "http://dmimg.5054399.com/allimg/141015/32_141015100330_1.jpg\n",
      "http://dmimg.5054399.com/allimg/xiaduo/121.jpg\n",
      "http://dmimg.5054399.com/allimg/xiaduo/122.jpg\n",
      "http://dmimg.5054399.com/allimg/xiaduo/123.jpg\n",
      "http://dmimg.5054399.com/allimg/170415/6_170415112850_1.jpg\n",
      "http://dmimg.5054399.com/allimg/xiaduo/126.jpg\n",
      "http://dmimg.5054399.com/allimg/xiaduo/124.jpg\n",
      "http://dmimg.5054399.com/allimg/170613/42_170613104122_3.jpg\n",
      "http://dmimg.5054399.com/allimg/160217/6_160217142248_3.jpg\n",
      "http://dmimg.5054399.com/allimg/160127/6_160127110842_2.jpg\n",
      "http://dmimg.5054399.com/allimg/160126/6_160126100905_3.jpg\n",
      "http://dmimg.5054399.com/allimg/151028/6_151028142939_2.jpg\n",
      "http://dmimg.5054399.com/allimg/141011/32_141011104701_1.jpg\n",
      "http://dmimg.5054399.com/allimg/141010/6_141010160943_1.jpg\n",
      "http://dmimg.5054399.com/allimg/141009/32_141009101400_1.jpg\n",
      "http://dmimg.5054399.com/allimg/141008/32_141008115350_1.jpg\n",
      "http://dmimg.5054399.com/allimg/140930/32_140930113358_1.jpg\n",
      "http://dmimg.5054399.com/allimg/141006/17_141006105909_2.jpg\n",
      "http://dmimg.5054399.com/allimg/140929/32_140929165041_1.jpg\n",
      "http://dmimg.5054399.com/allimg/140929/32_140929155918_1.jpg\n",
      "http://dmimg.5054399.com/allimg/140929/32_140929152026_1.jpg\n",
      "http://dmimg.5054399.com/allimg/140929/32_140929145136_1.jpg\n",
      "http://dmimg.5054399.com/allimg/140929/32_140929143721_1.jpg\n",
      "http://dmimg.5054399.com/allimg/140928/32_140928171341_1.jpg\n",
      "http://dmimg.5054399.com/allimg/140928/32_140928165720_1.jpg\n",
      "http://dmimg.5054399.com/allimg/140928/32_140928101304_1.jpg\n",
      "http://dmimg.5054399.com/allimg/140927/6_140927153400_1.jpg\n",
      "http://dmimg.5054399.com/allimg/140927/6_140927114522_1.jpg\n",
      "http://dmimg.5054399.com/allimg/140924/32_140924115717_1.jpg\n",
      "http://dmimg.5054399.com/allimg/140922/32_140922102904_1.jpg\n",
      "http://dmimg.5054399.com/allimg/xiaduo/121.jpg\n",
      "http://dmimg.5054399.com/allimg/xiaduo/122.jpg\n",
      "http://dmimg.5054399.com/allimg/xiaduo/123.jpg\n",
      "http://dmimg.5054399.com/allimg/170415/6_170415112850_1.jpg\n",
      "http://dmimg.5054399.com/allimg/xiaduo/126.jpg\n",
      "http://dmimg.5054399.com/allimg/xiaduo/124.jpg\n",
      "http://dmimg.5054399.com/allimg/170613/42_170613104122_3.jpg\n",
      "http://dmimg.5054399.com/allimg/160217/6_160217142248_3.jpg\n",
      "http://dmimg.5054399.com/allimg/160127/6_160127110842_2.jpg\n",
      "http://dmimg.5054399.com/allimg/160126/6_160126100905_3.jpg\n",
      "http://dmimg.5054399.com/allimg/151028/6_151028142939_2.jpg\n",
      "http://dmimg.5054399.com/allimg/140920/32_140920114407_1.jpg\n",
      "http://dmimg.5054399.com/allimg/140919/32_140919143251_1.jpg\n",
      "http://dmimg.5054399.com/allimg/140917/32_140917102408_1.jpg\n",
      "http://dmimg.5054399.com/allimg/140916/32_140916110104_1.jpg\n",
      "http://dmimg.5054399.com/allimg/xiaduo/94.jpg\n",
      "http://dmimg.5054399.com/allimg/140912/32_140912101809_1.jpg\n",
      "http://dmimg.5054399.com/allimg/140911/32_140911094735_1.jpg\n",
      "http://dmimg.5054399.com/allimg/140910/32_140910101943_1.jpg\n",
      "http://dmimg.5054399.com/allimg/140909/32_140909113846_1.jpg\n",
      "http://dmimg.5054399.com/allimg/xiaduo/80.jpg\n",
      "http://dmimg.5054399.com/allimg/140904/32_140904151324_1.jpg\n",
      "http://dmimg.5054399.com/allimg/140903/32_140903173124_1.jpg\n",
      "http://dmimg.5054399.com/allimg/140830/6_140830144057_1.jpg\n",
      "http://dmimg.5054399.com/allimg/140828/32_140828111825_1.jpg\n",
      "http://dmimg.5054399.com/allimg/140827/32_140827113934_1.jpg\n",
      "http://dmimg.5054399.com/allimg/140825/6_140825141709_1.jpg\n",
      "http://dmimg.5054399.com/allimg/xiaduo/29.jpg\n",
      "http://dmimg.5054399.com/allimg/140821/32_140821100632_1.jpg\n",
      "http://dmimg.5054399.com/allimg/xiaduo/121.jpg\n",
      "http://dmimg.5054399.com/allimg/xiaduo/122.jpg\n",
      "http://dmimg.5054399.com/allimg/xiaduo/123.jpg\n",
      "http://dmimg.5054399.com/allimg/170415/6_170415112850_1.jpg\n",
      "http://dmimg.5054399.com/allimg/xiaduo/126.jpg\n",
      "http://dmimg.5054399.com/allimg/xiaduo/124.jpg\n",
      "http://dmimg.5054399.com/allimg/170613/42_170613104122_3.jpg\n",
      "http://dmimg.5054399.com/allimg/160217/6_160217142248_3.jpg\n",
      "http://dmimg.5054399.com/allimg/160127/6_160127110842_2.jpg\n",
      "http://dmimg.5054399.com/allimg/160126/6_160126100905_3.jpg\n",
      "http://dmimg.5054399.com/allimg/151028/6_151028142939_2.jpg\n",
      "http://dmimg.5054399.com/allimg/140820/6_140820112418_1.jpg\n",
      "http://dmimg.5054399.com/allimg/140818/32_140818164539_1.jpg\n",
      "http://dmimg.5054399.com/allimg/140818/6_140818113759_1.jpg\n",
      "http://dmimg.5054399.com/allimg/140809/32_140809105559_1.jpg\n",
      "http://dmimg.5054399.com/allimg/140808/32_140808112301_1.jpg\n",
      "http://dmimg.5054399.com/allimg/140808/32_140808095231_1.jpg\n",
      "http://dmimg.5054399.com/allimg/140806/32_140806095524_1.jpg\n",
      "http://dmimg.5054399.com/allimg/140802/6_140802113508_1.jpg\n",
      "http://dmimg.5054399.com/allimg/140802/32_140802103842_1.jpg\n",
      "http://dmimg.5054399.com/allimg/140731/32_140731094847_1.jpg\n",
      "http://dmimg.5054399.com/allimg/140730/6_140730115755_1.jpg\n",
      "http://dmimg.5054399.com/allimg/140730/32_140730101700_1.jpg\n",
      "http://dmimg.5054399.com/allimg/140729/32_140729094637_1.jpg\n",
      "http://dmimg.5054399.com/allimg/140728/32_140728105635_1.jpg\n",
      "http://dmimg.5054399.com/allimg/140726/32_140726110535_1.jpg\n",
      "http://dmimg.5054399.com/allimg/140725/6_140725145708_1.jpg\n",
      "http://dmimg.5054399.com/allimg/140724/32_140724101151_1.jpg\n",
      "http://dmimg.5054399.com/allimg/140723/32_140723095402_1.jpg\n",
      "http://dmimg.5054399.com/allimg/xiaduo/121.jpg\n",
      "http://dmimg.5054399.com/allimg/xiaduo/122.jpg\n",
      "http://dmimg.5054399.com/allimg/xiaduo/123.jpg\n",
      "http://dmimg.5054399.com/allimg/170415/6_170415112850_1.jpg\n",
      "http://dmimg.5054399.com/allimg/xiaduo/126.jpg\n",
      "http://dmimg.5054399.com/allimg/xiaduo/124.jpg\n",
      "http://dmimg.5054399.com/allimg/170613/42_170613104122_3.jpg\n",
      "http://dmimg.5054399.com/allimg/160217/6_160217142248_3.jpg\n",
      "http://dmimg.5054399.com/allimg/160127/6_160127110842_2.jpg\n",
      "http://dmimg.5054399.com/allimg/160126/6_160126100905_3.jpg\n",
      "http://dmimg.5054399.com/allimg/151028/6_151028142939_2.jpg\n"
     ]
    },
    {
     "name": "stdout",
     "output_type": "stream",
     "text": [
      "http://dmimg.5054399.com/allimg/140719/32_140719110611_1.jpg\n",
      "http://dmimg.5054399.com/allimg/140716/32_140716103056_1.jpg\n",
      "http://dmimg.5054399.com/allimg/140714/6_140714171123_2.jpg\n",
      "http://dmimg.5054399.com/allimg/140714/32_140714094810_1.jpg\n",
      "http://dmimg.5054399.com/allimg/140712/6_140712015233_2.jpg\n",
      "http://dmimg.5054399.com/allimg/140711/6_140711172419_1.jpg\n",
      "http://dmimg.5054399.com/allimg/140710/32_140710100432_1.jpg\n",
      "http://dmimg.5054399.com/allimg/140709/6_140709095203_2.jpg\n",
      "http://dmimg.5054399.com/allimg/140628/6_140628102640_1.jpg\n",
      "http://dmimg.5054399.com/allimg/140701/32_140701102916_1.jpg\n",
      "http://dmimg.5054399.com/allimg/140624/32_140624101632_1.jpg\n",
      "http://dmimg.5054399.com/allimg/140623/6_140623155122_1.jpg\n",
      "http://dmimg.5054399.com/allimg/140621/32_140621105829_1.jpg\n",
      "http://dmimg.5054399.com/allimg/140619/32_140619100129_1.jpg\n",
      "http://dmimg.5054399.com/allimg/140617/32_140617100601_1.jpg\n",
      "http://dmimg.5054399.com/allimg/140616/32_140616101626_1.jpg\n",
      "http://dmimg.5054399.com/allimg/140614/32_140614113447_1.jpg\n",
      "http://dmimg.5054399.com/allimg/140607/32_140607110806_1.jpg\n",
      "http://dmimg.5054399.com/allimg/xiaduo/121.jpg\n",
      "http://dmimg.5054399.com/allimg/xiaduo/122.jpg\n",
      "http://dmimg.5054399.com/allimg/xiaduo/123.jpg\n",
      "http://dmimg.5054399.com/allimg/170415/6_170415112850_1.jpg\n",
      "http://dmimg.5054399.com/allimg/xiaduo/126.jpg\n",
      "http://dmimg.5054399.com/allimg/xiaduo/124.jpg\n",
      "http://dmimg.5054399.com/allimg/170613/42_170613104122_3.jpg\n",
      "http://dmimg.5054399.com/allimg/160217/6_160217142248_3.jpg\n",
      "http://dmimg.5054399.com/allimg/160127/6_160127110842_2.jpg\n",
      "http://dmimg.5054399.com/allimg/160126/6_160126100905_3.jpg\n",
      "http://dmimg.5054399.com/allimg/151028/6_151028142939_2.jpg\n"
     ]
    }
   ],
   "source": [
    "a = 'http://www.4399dmw.com/haizeiwang/tupian/list-273-'\n",
    "for i in range (1,8):\n",
    "    url = a+ str(i) + '.html'\n",
    "    HTML = requests.get(url).text\n",
    "    LIST = HTML.split('\\n')\n",
    "    for line in LIST:\n",
    "        if '.jpg'in line:\n",
    "            lin2 = line.split('\"')\n",
    "            for linee in lin2:\n",
    "                if '.jpg' in linee:\n",
    "                    print(linee)"
   ]
  },
  {
   "cell_type": "code",
   "execution_count": 67,
   "metadata": {},
   "outputs": [],
   "source": [
    "def hh(n):\n",
    "    a = 'http://www.4399dmw.com/haizeiwang/tupian/list-273-'\n",
    "    for i in range (1,n):\n",
    "        url = a+ str(i) + '.html'\n",
    "        HTML = requests.get(url).text\n",
    "        LIST = HTML.split('\\n')\n",
    "        for line in LIST:\n",
    "            if '.jpg'in line:\n",
    "                lin2 = line.split('\"')\n",
    "                for linee in lin2:\n",
    "                    if '.jpg' in linee:\n",
    "                        print(linee)"
   ]
  },
  {
   "cell_type": "code",
   "execution_count": 69,
   "metadata": {},
   "outputs": [
    {
     "name": "stdout",
     "output_type": "stream",
     "text": [
      "/images/error_new/logo.jpg\n",
      "/images/error_new/hz.jpg\n",
      "/images/error_new/hy.jpg\n",
      "/images/error_new/ss.jpg\n",
      "/images/error_new/xyy.jpg\n",
      "/images/error_new/dl.jpg\n",
      "http://dmimg.5054399.com/allimg/150330/6_150330161421_2.jpg\n",
      "http://dmimg.5054399.com/allimg/150320/6_150320104402_1.jpg\n",
      "http://dmimg.5054399.com/allimg/150317/6_150317101316_1.jpg\n",
      "http://dmimg.5054399.com/allimg/150331/6_150331095525_1.jpg\n",
      "http://dmimg.5054399.com/allimg/150305/6_150305102040_3.jpg\n",
      "http://dmimg.5054399.com/allimg/150218/6_150218163858_2.jpg\n",
      "http://dmimg.5054399.com/allimg/150209/6_150209151809_1.jpg\n",
      "http://dmimg.5054399.com/allimg/150206/6_150206154705_1.jpg\n",
      "http://dmimg.5054399.com/allimg/150203/32_150203114445_1.jpg\n",
      "http://dmimg.5054399.com/allimg/150130/6_150130160542_1.jpg\n",
      "http://dmimg.5054399.com/allimg/150129/6_150129154845_1.jpg\n",
      "http://dmimg.5054399.com/allimg/150128/6_150128193911_1.jpg\n",
      "http://dmimg.5054399.com/allimg/150128/6_150128165954_1.jpg\n",
      "http://dmimg.5054399.com/allimg/150127/6_150127115234_1.jpg\n",
      "http://dmimg.5054399.com/allimg/140623/6_140623110852_1.jpg\n",
      "http://dmimg.5054399.com/allimg/150121/6_150121135815_1.jpg\n",
      "http://dmimg.5054399.com/allimg/150114/6_150114094256_1.jpg\n",
      "http://dmimg.5054399.com/allimg/141212/6_141212093715_1.jpg\n",
      "http://dmimg.5054399.com/allimg/xiaduo/121.jpg\n",
      "http://dmimg.5054399.com/allimg/xiaduo/122.jpg\n",
      "http://dmimg.5054399.com/allimg/xiaduo/123.jpg\n",
      "http://dmimg.5054399.com/allimg/170415/6_170415112850_1.jpg\n",
      "http://dmimg.5054399.com/allimg/xiaduo/126.jpg\n",
      "http://dmimg.5054399.com/allimg/xiaduo/124.jpg\n",
      "http://dmimg.5054399.com/allimg/170613/42_170613104122_3.jpg\n",
      "http://dmimg.5054399.com/allimg/160217/6_160217142248_3.jpg\n",
      "http://dmimg.5054399.com/allimg/160127/6_160127110842_2.jpg\n",
      "http://dmimg.5054399.com/allimg/160126/6_160126100905_3.jpg\n",
      "http://dmimg.5054399.com/allimg/151028/6_151028142939_2.jpg\n",
      "http://dmimg.5054399.com/allimg/150106/6_150106164117_1.jpg\n",
      "http://dmimg.5054399.com/allimg/141229/6_141229165208_1.jpg\n",
      "http://dmimg.5054399.com/allimg/141224/32_141224095826_1.jpg\n",
      "http://dmimg.5054399.com/allimg/141215/32_141215095206_1.jpg\n",
      "http://dmimg.5054399.com/allimg/141208/32_141208110333_1.jpg\n",
      "http://dmimg.5054399.com/allimg/141204/32_141204103308_1.jpg\n",
      "http://dmimg.5054399.com/allimg/141129/6_141129155944_1.jpg\n",
      "http://dmimg.5054399.com/allimg/141129/6_141129134707_1.jpg\n",
      "http://dmimg.5054399.com/allimg/141129/6_141129112851_1.jpg\n",
      "http://dmimg.5054399.com/allimg/141127/6_141127151311_1.jpg\n",
      "http://dmimg.5054399.com/allimg/141125/6_141125164943_4.jpg\n",
      "http://dmimg.5054399.com/allimg/141125/6_141125114627_1.jpg\n",
      "http://dmimg.5054399.com/allimg/141124/6_141124105636_1.jpg\n",
      "http://dmimg.5054399.com/allimg/141118/6_141118114122_1.jpg\n",
      "http://dmimg.5054399.com/allimg/141115/6_141115144959_1.jpg\n",
      "http://dmimg.5054399.com/allimg/141024/6_141024170916_1.jpg\n",
      "http://dmimg.5054399.com/allimg/141015/6_141015150359_1.jpg\n",
      "http://dmimg.5054399.com/allimg/141015/32_141015100330_1.jpg\n",
      "http://dmimg.5054399.com/allimg/xiaduo/121.jpg\n",
      "http://dmimg.5054399.com/allimg/xiaduo/122.jpg\n",
      "http://dmimg.5054399.com/allimg/xiaduo/123.jpg\n",
      "http://dmimg.5054399.com/allimg/170415/6_170415112850_1.jpg\n",
      "http://dmimg.5054399.com/allimg/xiaduo/126.jpg\n",
      "http://dmimg.5054399.com/allimg/xiaduo/124.jpg\n",
      "http://dmimg.5054399.com/allimg/170613/42_170613104122_3.jpg\n",
      "http://dmimg.5054399.com/allimg/160217/6_160217142248_3.jpg\n",
      "http://dmimg.5054399.com/allimg/160127/6_160127110842_2.jpg\n",
      "http://dmimg.5054399.com/allimg/160126/6_160126100905_3.jpg\n",
      "http://dmimg.5054399.com/allimg/151028/6_151028142939_2.jpg\n",
      "http://dmimg.5054399.com/allimg/141011/32_141011104701_1.jpg\n",
      "http://dmimg.5054399.com/allimg/141010/6_141010160943_1.jpg\n",
      "http://dmimg.5054399.com/allimg/141009/32_141009101400_1.jpg\n",
      "http://dmimg.5054399.com/allimg/141008/32_141008115350_1.jpg\n",
      "http://dmimg.5054399.com/allimg/140930/32_140930113358_1.jpg\n",
      "http://dmimg.5054399.com/allimg/141006/17_141006105909_2.jpg\n",
      "http://dmimg.5054399.com/allimg/140929/32_140929165041_1.jpg\n",
      "http://dmimg.5054399.com/allimg/140929/32_140929155918_1.jpg\n",
      "http://dmimg.5054399.com/allimg/140929/32_140929152026_1.jpg\n",
      "http://dmimg.5054399.com/allimg/140929/32_140929145136_1.jpg\n",
      "http://dmimg.5054399.com/allimg/140929/32_140929143721_1.jpg\n",
      "http://dmimg.5054399.com/allimg/140928/32_140928171341_1.jpg\n",
      "http://dmimg.5054399.com/allimg/140928/32_140928165720_1.jpg\n",
      "http://dmimg.5054399.com/allimg/140928/32_140928101304_1.jpg\n",
      "http://dmimg.5054399.com/allimg/140927/6_140927153400_1.jpg\n",
      "http://dmimg.5054399.com/allimg/140927/6_140927114522_1.jpg\n",
      "http://dmimg.5054399.com/allimg/140924/32_140924115717_1.jpg\n",
      "http://dmimg.5054399.com/allimg/140922/32_140922102904_1.jpg\n",
      "http://dmimg.5054399.com/allimg/xiaduo/121.jpg\n",
      "http://dmimg.5054399.com/allimg/xiaduo/122.jpg\n",
      "http://dmimg.5054399.com/allimg/xiaduo/123.jpg\n",
      "http://dmimg.5054399.com/allimg/170415/6_170415112850_1.jpg\n",
      "http://dmimg.5054399.com/allimg/xiaduo/126.jpg\n",
      "http://dmimg.5054399.com/allimg/xiaduo/124.jpg\n",
      "http://dmimg.5054399.com/allimg/170613/42_170613104122_3.jpg\n",
      "http://dmimg.5054399.com/allimg/160217/6_160217142248_3.jpg\n",
      "http://dmimg.5054399.com/allimg/160127/6_160127110842_2.jpg\n",
      "http://dmimg.5054399.com/allimg/160126/6_160126100905_3.jpg\n",
      "http://dmimg.5054399.com/allimg/151028/6_151028142939_2.jpg\n",
      "http://dmimg.5054399.com/allimg/140920/32_140920114407_1.jpg\n",
      "http://dmimg.5054399.com/allimg/140919/32_140919143251_1.jpg\n",
      "http://dmimg.5054399.com/allimg/140917/32_140917102408_1.jpg\n",
      "http://dmimg.5054399.com/allimg/140916/32_140916110104_1.jpg\n",
      "http://dmimg.5054399.com/allimg/xiaduo/94.jpg\n",
      "http://dmimg.5054399.com/allimg/140912/32_140912101809_1.jpg\n",
      "http://dmimg.5054399.com/allimg/140911/32_140911094735_1.jpg\n",
      "http://dmimg.5054399.com/allimg/140910/32_140910101943_1.jpg\n",
      "http://dmimg.5054399.com/allimg/140909/32_140909113846_1.jpg\n",
      "http://dmimg.5054399.com/allimg/xiaduo/80.jpg\n",
      "http://dmimg.5054399.com/allimg/140904/32_140904151324_1.jpg\n",
      "http://dmimg.5054399.com/allimg/140903/32_140903173124_1.jpg\n",
      "http://dmimg.5054399.com/allimg/140830/6_140830144057_1.jpg\n",
      "http://dmimg.5054399.com/allimg/140828/32_140828111825_1.jpg\n",
      "http://dmimg.5054399.com/allimg/140827/32_140827113934_1.jpg\n",
      "http://dmimg.5054399.com/allimg/140825/6_140825141709_1.jpg\n",
      "http://dmimg.5054399.com/allimg/xiaduo/29.jpg\n",
      "http://dmimg.5054399.com/allimg/140821/32_140821100632_1.jpg\n",
      "http://dmimg.5054399.com/allimg/xiaduo/121.jpg\n",
      "http://dmimg.5054399.com/allimg/xiaduo/122.jpg\n",
      "http://dmimg.5054399.com/allimg/xiaduo/123.jpg\n",
      "http://dmimg.5054399.com/allimg/170415/6_170415112850_1.jpg\n",
      "http://dmimg.5054399.com/allimg/xiaduo/126.jpg\n",
      "http://dmimg.5054399.com/allimg/xiaduo/124.jpg\n",
      "http://dmimg.5054399.com/allimg/170613/42_170613104122_3.jpg\n",
      "http://dmimg.5054399.com/allimg/160217/6_160217142248_3.jpg\n",
      "http://dmimg.5054399.com/allimg/160127/6_160127110842_2.jpg\n",
      "http://dmimg.5054399.com/allimg/160126/6_160126100905_3.jpg\n",
      "http://dmimg.5054399.com/allimg/151028/6_151028142939_2.jpg\n",
      "http://dmimg.5054399.com/allimg/140820/6_140820112418_1.jpg\n",
      "http://dmimg.5054399.com/allimg/140818/32_140818164539_1.jpg\n",
      "http://dmimg.5054399.com/allimg/140818/6_140818113759_1.jpg\n",
      "http://dmimg.5054399.com/allimg/140809/32_140809105559_1.jpg\n",
      "http://dmimg.5054399.com/allimg/140808/32_140808112301_1.jpg\n",
      "http://dmimg.5054399.com/allimg/140808/32_140808095231_1.jpg\n",
      "http://dmimg.5054399.com/allimg/140806/32_140806095524_1.jpg\n",
      "http://dmimg.5054399.com/allimg/140802/6_140802113508_1.jpg\n",
      "http://dmimg.5054399.com/allimg/140802/32_140802103842_1.jpg\n",
      "http://dmimg.5054399.com/allimg/140731/32_140731094847_1.jpg\n",
      "http://dmimg.5054399.com/allimg/140730/6_140730115755_1.jpg\n",
      "http://dmimg.5054399.com/allimg/140730/32_140730101700_1.jpg\n",
      "http://dmimg.5054399.com/allimg/140729/32_140729094637_1.jpg\n",
      "http://dmimg.5054399.com/allimg/140728/32_140728105635_1.jpg\n",
      "http://dmimg.5054399.com/allimg/140726/32_140726110535_1.jpg\n",
      "http://dmimg.5054399.com/allimg/140725/6_140725145708_1.jpg\n",
      "http://dmimg.5054399.com/allimg/140724/32_140724101151_1.jpg\n",
      "http://dmimg.5054399.com/allimg/140723/32_140723095402_1.jpg\n",
      "http://dmimg.5054399.com/allimg/xiaduo/121.jpg\n",
      "http://dmimg.5054399.com/allimg/xiaduo/122.jpg\n",
      "http://dmimg.5054399.com/allimg/xiaduo/123.jpg\n",
      "http://dmimg.5054399.com/allimg/170415/6_170415112850_1.jpg\n",
      "http://dmimg.5054399.com/allimg/xiaduo/126.jpg\n",
      "http://dmimg.5054399.com/allimg/xiaduo/124.jpg\n",
      "http://dmimg.5054399.com/allimg/170613/42_170613104122_3.jpg\n",
      "http://dmimg.5054399.com/allimg/160217/6_160217142248_3.jpg\n",
      "http://dmimg.5054399.com/allimg/160127/6_160127110842_2.jpg\n",
      "http://dmimg.5054399.com/allimg/160126/6_160126100905_3.jpg\n",
      "http://dmimg.5054399.com/allimg/151028/6_151028142939_2.jpg\n"
     ]
    },
    {
     "name": "stdout",
     "output_type": "stream",
     "text": [
      "http://dmimg.5054399.com/allimg/140719/32_140719110611_1.jpg\n",
      "http://dmimg.5054399.com/allimg/140716/32_140716103056_1.jpg\n",
      "http://dmimg.5054399.com/allimg/140714/6_140714171123_2.jpg\n",
      "http://dmimg.5054399.com/allimg/140714/32_140714094810_1.jpg\n",
      "http://dmimg.5054399.com/allimg/140712/6_140712015233_2.jpg\n",
      "http://dmimg.5054399.com/allimg/140711/6_140711172419_1.jpg\n",
      "http://dmimg.5054399.com/allimg/140710/32_140710100432_1.jpg\n",
      "http://dmimg.5054399.com/allimg/140709/6_140709095203_2.jpg\n",
      "http://dmimg.5054399.com/allimg/140628/6_140628102640_1.jpg\n",
      "http://dmimg.5054399.com/allimg/140701/32_140701102916_1.jpg\n",
      "http://dmimg.5054399.com/allimg/140624/32_140624101632_1.jpg\n",
      "http://dmimg.5054399.com/allimg/140623/6_140623155122_1.jpg\n",
      "http://dmimg.5054399.com/allimg/140621/32_140621105829_1.jpg\n",
      "http://dmimg.5054399.com/allimg/140619/32_140619100129_1.jpg\n",
      "http://dmimg.5054399.com/allimg/140617/32_140617100601_1.jpg\n",
      "http://dmimg.5054399.com/allimg/140616/32_140616101626_1.jpg\n",
      "http://dmimg.5054399.com/allimg/140614/32_140614113447_1.jpg\n",
      "http://dmimg.5054399.com/allimg/140607/32_140607110806_1.jpg\n",
      "http://dmimg.5054399.com/allimg/xiaduo/121.jpg\n",
      "http://dmimg.5054399.com/allimg/xiaduo/122.jpg\n",
      "http://dmimg.5054399.com/allimg/xiaduo/123.jpg\n",
      "http://dmimg.5054399.com/allimg/170415/6_170415112850_1.jpg\n",
      "http://dmimg.5054399.com/allimg/xiaduo/126.jpg\n",
      "http://dmimg.5054399.com/allimg/xiaduo/124.jpg\n",
      "http://dmimg.5054399.com/allimg/170613/42_170613104122_3.jpg\n",
      "http://dmimg.5054399.com/allimg/160217/6_160217142248_3.jpg\n",
      "http://dmimg.5054399.com/allimg/160127/6_160127110842_2.jpg\n",
      "http://dmimg.5054399.com/allimg/160126/6_160126100905_3.jpg\n",
      "http://dmimg.5054399.com/allimg/151028/6_151028142939_2.jpg\n"
     ]
    }
   ],
   "source": [
    "hh(8)"
   ]
  },
  {
   "cell_type": "markdown",
   "metadata": {},
   "source": [
    "## 转换字符串\n",
    "![](../Photo/101.png)"
   ]
  },
  {
   "cell_type": "code",
   "execution_count": 45,
   "metadata": {},
   "outputs": [
    {
     "data": {
      "text/plain": [
       "'Jsdiji'"
      ]
     },
     "execution_count": 45,
     "metadata": {},
     "output_type": "execute_result"
    }
   ],
   "source": [
    "a = 'jsdiji'\n",
    "a.capitalize()"
   ]
  },
  {
   "cell_type": "code",
   "execution_count": 48,
   "metadata": {},
   "outputs": [
    {
     "data": {
      "text/plain": [
       "'KJoker'"
      ]
     },
     "execution_count": 48,
     "metadata": {},
     "output_type": "execute_result"
    }
   ],
   "source": [
    "a = 'JJoker'\n",
    "a.replace('J','K',1)"
   ]
  },
  {
   "cell_type": "code",
   "execution_count": 49,
   "metadata": {},
   "outputs": [
    {
     "data": {
      "text/plain": [
       "'JJoker'"
      ]
     },
     "execution_count": 49,
     "metadata": {},
     "output_type": "execute_result"
    }
   ],
   "source": [
    "a = 'JJ o  ke  r  '\n",
    "a.replace(' ','')"
   ]
  },
  {
   "cell_type": "markdown",
   "metadata": {},
   "source": [
    "## 删除字符串\n",
    "![](../Photo/146.png)"
   ]
  },
  {
   "cell_type": "code",
   "execution_count": 50,
   "metadata": {},
   "outputs": [
    {
     "data": {
      "text/plain": [
       "'acjcj'"
      ]
     },
     "execution_count": 50,
     "metadata": {},
     "output_type": "execute_result"
    }
   ],
   "source": [
    "b = '  acjcj'\n",
    "b.lstrip()"
   ]
  },
  {
   "cell_type": "code",
   "execution_count": 51,
   "metadata": {},
   "outputs": [
    {
     "data": {
      "text/plain": [
       "'  acjcj'"
      ]
     },
     "execution_count": 51,
     "metadata": {},
     "output_type": "execute_result"
    }
   ],
   "source": [
    "b = '  acjcj   '\n",
    "b.rstrip()"
   ]
  },
  {
   "cell_type": "code",
   "execution_count": 52,
   "metadata": {},
   "outputs": [
    {
     "data": {
      "text/plain": [
       "'acjcj'"
      ]
     },
     "execution_count": 52,
     "metadata": {},
     "output_type": "execute_result"
    }
   ],
   "source": [
    "b = '  acjcj   '\n",
    "b.strip()"
   ]
  },
  {
   "cell_type": "markdown",
   "metadata": {},
   "source": [
    "## 格式化字符串\n",
    "![](../Photo/103.png)"
   ]
  },
  {
   "cell_type": "markdown",
   "metadata": {},
   "source": [
    "## EP:\n",
    "- 1\n",
    "![](../Photo/104.png)\n",
    "- 2 \n",
    "    随机参数100个数字，将www.baidu.com/?page=进行拼接"
   ]
  },
  {
   "cell_type": "markdown",
   "metadata": {},
   "source": [
    "## Python高级使用方法 -- 字符串\n",
    "- 我们经常使用的方法实际上就是调用Python的运算重载\n",
    "![](../Photo/105.png)"
   ]
  },
  {
   "cell_type": "markdown",
   "metadata": {},
   "source": [
    "# Homework\n",
    "- 1\n",
    "![](../Photo/106.png)"
   ]
  },
  {
   "cell_type": "code",
   "execution_count": 4,
   "metadata": {},
   "outputs": [
    {
     "name": "stdout",
     "output_type": "stream",
     "text": [
      "按照ddd-dd-dddd格式输入，d为数字:56598\n",
      "Valid SSN\n"
     ]
    }
   ],
   "source": [
    "a= input ('按照ddd-dd-dddd格式输入，d为数字:')\n",
    "\n",
    "b = 0\n",
    "if a.isdigit(): #数字的\n",
    "    print('Valid SSN')\n",
    "else:\n",
    "    print('linvalid SSN')"
   ]
  },
  {
   "cell_type": "markdown",
   "metadata": {},
   "source": [
    "- 2\n",
    "![](../Photo/107.png)"
   ]
  },
  {
   "cell_type": "code",
   "execution_count": 5,
   "metadata": {},
   "outputs": [
    {
     "name": "stdout",
     "output_type": "stream",
     "text": [
      "输入65665\n",
      "输入566\n",
      "是\n"
     ]
    }
   ],
   "source": [
    "str1 = input('输入')\n",
    "str2 = input('输入')\n",
    "str1.find(str2)\n",
    "if str1.find(str2)==-1:\n",
    "    print('不是')\n",
    "else:\n",
    "    print('是')"
   ]
  },
  {
   "cell_type": "markdown",
   "metadata": {},
   "source": [
    "- 3\n",
    "![](../Photo/108.png)"
   ]
  },
  {
   "cell_type": "code",
   "execution_count": 6,
   "metadata": {},
   "outputs": [],
   "source": [
    "def Cheak(a):\n",
    "    N = len (a)\n",
    "    n1,n2,n3 = 0,0,0\n",
    "    for i in a:\n",
    "        if i.isupper():\n",
    "            n1 +=1\n",
    "        elif i.islower():\n",
    "            n2 +=1\n",
    "        elif i.isdigit():\n",
    "            n3 +=1\n",
    "    if n1 ==0 :\n",
    "        print('invalid password')\n",
    "    if n2 ==0:\n",
    "        print ('invalid password')\n",
    "    if n3 == 0:\n",
    "        print('invalid password')\n",
    "    if N<=8:\n",
    "        print('invalid password')\n",
    "    if i.count('0,9')!= 2:\n",
    "        print('invalid password')\n",
    "    else:\n",
    "        print('valid password')"
   ]
  },
  {
   "cell_type": "code",
   "execution_count": 11,
   "metadata": {},
   "outputs": [
    {
     "name": "stdout",
     "output_type": "stream",
     "text": [
      "invalid password\n"
     ]
    }
   ],
   "source": [
    "a = 'lkfljG5fhjsde'\n",
    "Cheak(a)"
   ]
  },
  {
   "cell_type": "markdown",
   "metadata": {},
   "source": [
    "- 4\n",
    "![](../Photo/109.png)"
   ]
  },
  {
   "cell_type": "code",
   "execution_count": 16,
   "metadata": {},
   "outputs": [
    {
     "name": "stdout",
     "output_type": "stream",
     "text": [
      "输入字符串opgdj\n",
      "1\n",
      "2\n",
      "3\n",
      "4\n",
      "5\n"
     ]
    }
   ],
   "source": [
    "zimu = input('输入字符串')\n",
    "def counLettres():\n",
    "    geshu = 0\n",
    "    for i in zimu:\n",
    "        if i.isalpha():\n",
    "            geshu +=1\n",
    "        print(geshu)\n",
    "counLettres()"
   ]
  },
  {
   "cell_type": "markdown",
   "metadata": {},
   "source": [
    "- 5\n",
    "![](../Photo/110.png)"
   ]
  },
  {
   "cell_type": "code",
   "execution_count": null,
   "metadata": {},
   "outputs": [],
   "source": [
    "zifu = input('输入电话号码')\n",
    "def getNumber():\n",
    "    zifu.replace('a,b,c,A,B,C','2')\n",
    "    zifu.replace('d,e,f,E,D,F','3')  \n",
    "    zifu.replace('h,i,g','4')    \n",
    "    zifu.replace('k,j,l','5')     \n",
    "    zifu.replace('n,m,o','6')        \n",
    "    zifu.replace('q,p,r,s','7')      \n",
    "    zifu.replace('t,v,u','8')     \n",
    "    zifu.replace('w,y,x,z','9')    \n",
    "getNumber()"
   ]
  },
  {
   "cell_type": "code",
   "execution_count": 18,
   "metadata": {},
   "outputs": [
    {
     "name": "stdout",
     "output_type": "stream",
     "text": [
      "请输入任意字符串: jhgjgh\n",
      "[]\n",
      "['J', 'H', 'G', 'J', 'G', 'H']\n"
     ]
    }
   ],
   "source": [
    "str1 = input(\"请输入任意字符串: \")\n",
    "list1= [] #存储字符串\n",
    "list2= [] #存储数字\n",
    "for i in str1:\n",
    "    if i.isdigit() == True: #判断当前字符是否为字符\n",
    "        list2.append(int(i))\n",
    "    else:\n",
    "        list1.append(i.upper())\n",
    "print(list2)\n",
    "print(list1)"
   ]
  },
  {
   "cell_type": "markdown",
   "metadata": {},
   "source": [
    "- 6\n",
    "![](../Photo/111.png)"
   ]
  },
  {
   "cell_type": "code",
   "execution_count": 1,
   "metadata": {},
   "outputs": [
    {
     "name": "stdout",
     "output_type": "stream",
     "text": [
      "输入5559889\n"
     ]
    },
    {
     "data": {
      "text/plain": [
       "'9889555'"
      ]
     },
     "execution_count": 1,
     "metadata": {},
     "output_type": "execute_result"
    }
   ],
   "source": [
    "zifu = input('输入')\n",
    "def reverse():\n",
    "    return zifu[::-1]\n",
    "reverse()"
   ]
  },
  {
   "cell_type": "markdown",
   "metadata": {},
   "source": [
    "- 7\n",
    "![](../Photo/112.png)"
   ]
  },
  {
   "cell_type": "markdown",
   "metadata": {},
   "source": [
    "- 8\n",
    "![](../Photo/113.png)"
   ]
  },
  {
   "cell_type": "markdown",
   "metadata": {},
   "source": [
    "- 9\n",
    "![](../Photo/114.png)"
   ]
  }
 ],
 "metadata": {
  "kernelspec": {
   "display_name": "Python 3",
   "language": "python",
   "name": "python3"
  },
  "language_info": {
   "codemirror_mode": {
    "name": "ipython",
    "version": 3
   },
   "file_extension": ".py",
   "mimetype": "text/x-python",
   "name": "python",
   "nbconvert_exporter": "python",
   "pygments_lexer": "ipython3",
   "version": "3.7.3"
  }
 },
 "nbformat": 4,
 "nbformat_minor": 2
}
